{
 "cells": [
  {
   "cell_type": "code",
   "execution_count": 1,
   "metadata": {},
   "outputs": [],
   "source": [
    "import tensorflow\n",
    "from tensorflow.keras.preprocessing import image \n",
    "from tensorflow.keras.preprocessing.image import load_img \n",
    "from tensorflow.keras.layers import GlobalMaxPooling2D\n",
    "from tensorflow.keras.applications.resnet50 import ResNet50,preprocess_input\n",
    "import numpy as np\n",
    "from numpy.linalg import norm\n",
    "import os\n",
    "from tqdm import tqdm\n",
    "import pickle "
   ]
  },
  {
   "cell_type": "code",
   "execution_count": 9,
   "metadata": {},
   "outputs": [
    {
     "name": "stdout",
     "output_type": "stream",
     "text": [
      "Please check your installation\n"
     ]
    }
   ],
   "source": [
    "import tensorflow as tf\n",
    "if tf.test.gpu_device_name():\n",
    "      print(f'Default GPU Device:{tf.test.gpu_device_name()}')\n",
    "else:\n",
    "      print(\"Please check your installation\")"
   ]
  },
  {
   "cell_type": "markdown",
   "metadata": {},
   "source": [
    "Create model used resnet\n",
    "https://www.geeksforgeeks.org/residual-networks-resnet-deep-learning/"
   ]
  },
  {
   "cell_type": "code",
   "execution_count": 2,
   "metadata": {},
   "outputs": [],
   "source": [
    "model = ResNet50(weights='imagenet',include_top=False,input_shape=(224,224,3))\n",
    "model.trainable = False"
   ]
  },
  {
   "cell_type": "code",
   "execution_count": 3,
   "metadata": {},
   "outputs": [
    {
     "name": "stdout",
     "output_type": "stream",
     "text": [
      "Model: \"resnet50\"\n",
      "__________________________________________________________________________________________________\n",
      " Layer (type)                   Output Shape         Param #     Connected to                     \n",
      "==================================================================================================\n",
      " input_1 (InputLayer)           [(None, 224, 224, 3  0           []                               \n",
      "                                )]                                                                \n",
      "                                                                                                  \n",
      " conv1_pad (ZeroPadding2D)      (None, 230, 230, 3)  0           ['input_1[0][0]']                \n",
      "                                                                                                  \n",
      " conv1_conv (Conv2D)            (None, 112, 112, 64  9472        ['conv1_pad[0][0]']              \n",
      "                                )                                                                 \n",
      "                                                                                                  \n",
      " conv1_bn (BatchNormalization)  (None, 112, 112, 64  256         ['conv1_conv[0][0]']             \n",
      "                                )                                                                 \n",
      "                                                                                                  \n",
      " conv1_relu (Activation)        (None, 112, 112, 64  0           ['conv1_bn[0][0]']               \n",
      "                                )                                                                 \n",
      "                                                                                                  \n",
      " pool1_pad (ZeroPadding2D)      (None, 114, 114, 64  0           ['conv1_relu[0][0]']             \n",
      "                                )                                                                 \n",
      "                                                                                                  \n",
      " pool1_pool (MaxPooling2D)      (None, 56, 56, 64)   0           ['pool1_pad[0][0]']              \n",
      "                                                                                                  \n",
      " conv2_block1_1_conv (Conv2D)   (None, 56, 56, 64)   4160        ['pool1_pool[0][0]']             \n",
      "                                                                                                  \n",
      " conv2_block1_1_bn (BatchNormal  (None, 56, 56, 64)  256         ['conv2_block1_1_conv[0][0]']    \n",
      " ization)                                                                                         \n",
      "                                                                                                  \n",
      " conv2_block1_1_relu (Activatio  (None, 56, 56, 64)  0           ['conv2_block1_1_bn[0][0]']      \n",
      " n)                                                                                               \n",
      "                                                                                                  \n",
      " conv2_block1_2_conv (Conv2D)   (None, 56, 56, 64)   36928       ['conv2_block1_1_relu[0][0]']    \n",
      "                                                                                                  \n",
      " conv2_block1_2_bn (BatchNormal  (None, 56, 56, 64)  256         ['conv2_block1_2_conv[0][0]']    \n",
      " ization)                                                                                         \n",
      "                                                                                                  \n",
      " conv2_block1_2_relu (Activatio  (None, 56, 56, 64)  0           ['conv2_block1_2_bn[0][0]']      \n",
      " n)                                                                                               \n",
      "                                                                                                  \n",
      " conv2_block1_0_conv (Conv2D)   (None, 56, 56, 256)  16640       ['pool1_pool[0][0]']             \n",
      "                                                                                                  \n",
      " conv2_block1_3_conv (Conv2D)   (None, 56, 56, 256)  16640       ['conv2_block1_2_relu[0][0]']    \n",
      "                                                                                                  \n",
      " conv2_block1_0_bn (BatchNormal  (None, 56, 56, 256)  1024       ['conv2_block1_0_conv[0][0]']    \n",
      " ization)                                                                                         \n",
      "                                                                                                  \n",
      " conv2_block1_3_bn (BatchNormal  (None, 56, 56, 256)  1024       ['conv2_block1_3_conv[0][0]']    \n",
      " ization)                                                                                         \n",
      "                                                                                                  \n",
      " conv2_block1_add (Add)         (None, 56, 56, 256)  0           ['conv2_block1_0_bn[0][0]',      \n",
      "                                                                  'conv2_block1_3_bn[0][0]']      \n",
      "                                                                                                  \n",
      " conv2_block1_out (Activation)  (None, 56, 56, 256)  0           ['conv2_block1_add[0][0]']       \n",
      "                                                                                                  \n",
      " conv2_block2_1_conv (Conv2D)   (None, 56, 56, 64)   16448       ['conv2_block1_out[0][0]']       \n",
      "                                                                                                  \n",
      " conv2_block2_1_bn (BatchNormal  (None, 56, 56, 64)  256         ['conv2_block2_1_conv[0][0]']    \n",
      " ization)                                                                                         \n",
      "                                                                                                  \n",
      " conv2_block2_1_relu (Activatio  (None, 56, 56, 64)  0           ['conv2_block2_1_bn[0][0]']      \n",
      " n)                                                                                               \n",
      "                                                                                                  \n",
      " conv2_block2_2_conv (Conv2D)   (None, 56, 56, 64)   36928       ['conv2_block2_1_relu[0][0]']    \n",
      "                                                                                                  \n",
      " conv2_block2_2_bn (BatchNormal  (None, 56, 56, 64)  256         ['conv2_block2_2_conv[0][0]']    \n",
      " ization)                                                                                         \n",
      "                                                                                                  \n",
      " conv2_block2_2_relu (Activatio  (None, 56, 56, 64)  0           ['conv2_block2_2_bn[0][0]']      \n",
      " n)                                                                                               \n",
      "                                                                                                  \n",
      " conv2_block2_3_conv (Conv2D)   (None, 56, 56, 256)  16640       ['conv2_block2_2_relu[0][0]']    \n",
      "                                                                                                  \n",
      " conv2_block2_3_bn (BatchNormal  (None, 56, 56, 256)  1024       ['conv2_block2_3_conv[0][0]']    \n",
      " ization)                                                                                         \n",
      "                                                                                                  \n",
      " conv2_block2_add (Add)         (None, 56, 56, 256)  0           ['conv2_block1_out[0][0]',       \n",
      "                                                                  'conv2_block2_3_bn[0][0]']      \n",
      "                                                                                                  \n",
      " conv2_block2_out (Activation)  (None, 56, 56, 256)  0           ['conv2_block2_add[0][0]']       \n",
      "                                                                                                  \n",
      " conv2_block3_1_conv (Conv2D)   (None, 56, 56, 64)   16448       ['conv2_block2_out[0][0]']       \n",
      "                                                                                                  \n",
      " conv2_block3_1_bn (BatchNormal  (None, 56, 56, 64)  256         ['conv2_block3_1_conv[0][0]']    \n",
      " ization)                                                                                         \n",
      "                                                                                                  \n",
      " conv2_block3_1_relu (Activatio  (None, 56, 56, 64)  0           ['conv2_block3_1_bn[0][0]']      \n",
      " n)                                                                                               \n",
      "                                                                                                  \n",
      " conv2_block3_2_conv (Conv2D)   (None, 56, 56, 64)   36928       ['conv2_block3_1_relu[0][0]']    \n",
      "                                                                                                  \n",
      " conv2_block3_2_bn (BatchNormal  (None, 56, 56, 64)  256         ['conv2_block3_2_conv[0][0]']    \n",
      " ization)                                                                                         \n",
      "                                                                                                  \n",
      " conv2_block3_2_relu (Activatio  (None, 56, 56, 64)  0           ['conv2_block3_2_bn[0][0]']      \n",
      " n)                                                                                               \n",
      "                                                                                                  \n",
      " conv2_block3_3_conv (Conv2D)   (None, 56, 56, 256)  16640       ['conv2_block3_2_relu[0][0]']    \n",
      "                                                                                                  \n",
      " conv2_block3_3_bn (BatchNormal  (None, 56, 56, 256)  1024       ['conv2_block3_3_conv[0][0]']    \n",
      " ization)                                                                                         \n",
      "                                                                                                  \n",
      " conv2_block3_add (Add)         (None, 56, 56, 256)  0           ['conv2_block2_out[0][0]',       \n",
      "                                                                  'conv2_block3_3_bn[0][0]']      \n",
      "                                                                                                  \n",
      " conv2_block3_out (Activation)  (None, 56, 56, 256)  0           ['conv2_block3_add[0][0]']       \n",
      "                                                                                                  \n",
      " conv3_block1_1_conv (Conv2D)   (None, 28, 28, 128)  32896       ['conv2_block3_out[0][0]']       \n",
      "                                                                                                  \n",
      " conv3_block1_1_bn (BatchNormal  (None, 28, 28, 128)  512        ['conv3_block1_1_conv[0][0]']    \n",
      " ization)                                                                                         \n",
      "                                                                                                  \n",
      " conv3_block1_1_relu (Activatio  (None, 28, 28, 128)  0          ['conv3_block1_1_bn[0][0]']      \n",
      " n)                                                                                               \n",
      "                                                                                                  \n",
      " conv3_block1_2_conv (Conv2D)   (None, 28, 28, 128)  147584      ['conv3_block1_1_relu[0][0]']    \n",
      "                                                                                                  \n",
      " conv3_block1_2_bn (BatchNormal  (None, 28, 28, 128)  512        ['conv3_block1_2_conv[0][0]']    \n",
      " ization)                                                                                         \n",
      "                                                                                                  \n",
      " conv3_block1_2_relu (Activatio  (None, 28, 28, 128)  0          ['conv3_block1_2_bn[0][0]']      \n",
      " n)                                                                                               \n",
      "                                                                                                  \n",
      " conv3_block1_0_conv (Conv2D)   (None, 28, 28, 512)  131584      ['conv2_block3_out[0][0]']       \n",
      "                                                                                                  \n",
      " conv3_block1_3_conv (Conv2D)   (None, 28, 28, 512)  66048       ['conv3_block1_2_relu[0][0]']    \n",
      "                                                                                                  \n",
      " conv3_block1_0_bn (BatchNormal  (None, 28, 28, 512)  2048       ['conv3_block1_0_conv[0][0]']    \n",
      " ization)                                                                                         \n",
      "                                                                                                  \n",
      " conv3_block1_3_bn (BatchNormal  (None, 28, 28, 512)  2048       ['conv3_block1_3_conv[0][0]']    \n",
      " ization)                                                                                         \n",
      "                                                                                                  \n",
      " conv3_block1_add (Add)         (None, 28, 28, 512)  0           ['conv3_block1_0_bn[0][0]',      \n",
      "                                                                  'conv3_block1_3_bn[0][0]']      \n",
      "                                                                                                  \n",
      " conv3_block1_out (Activation)  (None, 28, 28, 512)  0           ['conv3_block1_add[0][0]']       \n",
      "                                                                                                  \n",
      " conv3_block2_1_conv (Conv2D)   (None, 28, 28, 128)  65664       ['conv3_block1_out[0][0]']       \n",
      "                                                                                                  \n",
      " conv3_block2_1_bn (BatchNormal  (None, 28, 28, 128)  512        ['conv3_block2_1_conv[0][0]']    \n",
      " ization)                                                                                         \n",
      "                                                                                                  \n",
      " conv3_block2_1_relu (Activatio  (None, 28, 28, 128)  0          ['conv3_block2_1_bn[0][0]']      \n",
      " n)                                                                                               \n",
      "                                                                                                  \n",
      " conv3_block2_2_conv (Conv2D)   (None, 28, 28, 128)  147584      ['conv3_block2_1_relu[0][0]']    \n",
      "                                                                                                  \n",
      " conv3_block2_2_bn (BatchNormal  (None, 28, 28, 128)  512        ['conv3_block2_2_conv[0][0]']    \n",
      " ization)                                                                                         \n",
      "                                                                                                  \n",
      " conv3_block2_2_relu (Activatio  (None, 28, 28, 128)  0          ['conv3_block2_2_bn[0][0]']      \n",
      " n)                                                                                               \n",
      "                                                                                                  \n",
      " conv3_block2_3_conv (Conv2D)   (None, 28, 28, 512)  66048       ['conv3_block2_2_relu[0][0]']    \n",
      "                                                                                                  \n",
      " conv3_block2_3_bn (BatchNormal  (None, 28, 28, 512)  2048       ['conv3_block2_3_conv[0][0]']    \n",
      " ization)                                                                                         \n",
      "                                                                                                  \n",
      " conv3_block2_add (Add)         (None, 28, 28, 512)  0           ['conv3_block1_out[0][0]',       \n",
      "                                                                  'conv3_block2_3_bn[0][0]']      \n",
      "                                                                                                  \n",
      " conv3_block2_out (Activation)  (None, 28, 28, 512)  0           ['conv3_block2_add[0][0]']       \n",
      "                                                                                                  \n",
      " conv3_block3_1_conv (Conv2D)   (None, 28, 28, 128)  65664       ['conv3_block2_out[0][0]']       \n",
      "                                                                                                  \n",
      " conv3_block3_1_bn (BatchNormal  (None, 28, 28, 128)  512        ['conv3_block3_1_conv[0][0]']    \n",
      " ization)                                                                                         \n",
      "                                                                                                  \n",
      " conv3_block3_1_relu (Activatio  (None, 28, 28, 128)  0          ['conv3_block3_1_bn[0][0]']      \n",
      " n)                                                                                               \n",
      "                                                                                                  \n",
      " conv3_block3_2_conv (Conv2D)   (None, 28, 28, 128)  147584      ['conv3_block3_1_relu[0][0]']    \n",
      "                                                                                                  \n",
      " conv3_block3_2_bn (BatchNormal  (None, 28, 28, 128)  512        ['conv3_block3_2_conv[0][0]']    \n",
      " ization)                                                                                         \n",
      "                                                                                                  \n",
      " conv3_block3_2_relu (Activatio  (None, 28, 28, 128)  0          ['conv3_block3_2_bn[0][0]']      \n",
      " n)                                                                                               \n",
      "                                                                                                  \n",
      " conv3_block3_3_conv (Conv2D)   (None, 28, 28, 512)  66048       ['conv3_block3_2_relu[0][0]']    \n",
      "                                                                                                  \n",
      " conv3_block3_3_bn (BatchNormal  (None, 28, 28, 512)  2048       ['conv3_block3_3_conv[0][0]']    \n",
      " ization)                                                                                         \n",
      "                                                                                                  \n",
      " conv3_block3_add (Add)         (None, 28, 28, 512)  0           ['conv3_block2_out[0][0]',       \n",
      "                                                                  'conv3_block3_3_bn[0][0]']      \n",
      "                                                                                                  \n",
      " conv3_block3_out (Activation)  (None, 28, 28, 512)  0           ['conv3_block3_add[0][0]']       \n",
      "                                                                                                  \n",
      " conv3_block4_1_conv (Conv2D)   (None, 28, 28, 128)  65664       ['conv3_block3_out[0][0]']       \n",
      "                                                                                                  \n",
      " conv3_block4_1_bn (BatchNormal  (None, 28, 28, 128)  512        ['conv3_block4_1_conv[0][0]']    \n",
      " ization)                                                                                         \n",
      "                                                                                                  \n",
      " conv3_block4_1_relu (Activatio  (None, 28, 28, 128)  0          ['conv3_block4_1_bn[0][0]']      \n",
      " n)                                                                                               \n",
      "                                                                                                  \n",
      " conv3_block4_2_conv (Conv2D)   (None, 28, 28, 128)  147584      ['conv3_block4_1_relu[0][0]']    \n",
      "                                                                                                  \n",
      " conv3_block4_2_bn (BatchNormal  (None, 28, 28, 128)  512        ['conv3_block4_2_conv[0][0]']    \n",
      " ization)                                                                                         \n",
      "                                                                                                  \n",
      " conv3_block4_2_relu (Activatio  (None, 28, 28, 128)  0          ['conv3_block4_2_bn[0][0]']      \n",
      " n)                                                                                               \n",
      "                                                                                                  \n",
      " conv3_block4_3_conv (Conv2D)   (None, 28, 28, 512)  66048       ['conv3_block4_2_relu[0][0]']    \n",
      "                                                                                                  \n",
      " conv3_block4_3_bn (BatchNormal  (None, 28, 28, 512)  2048       ['conv3_block4_3_conv[0][0]']    \n",
      " ization)                                                                                         \n",
      "                                                                                                  \n",
      " conv3_block4_add (Add)         (None, 28, 28, 512)  0           ['conv3_block3_out[0][0]',       \n",
      "                                                                  'conv3_block4_3_bn[0][0]']      \n",
      "                                                                                                  \n",
      " conv3_block4_out (Activation)  (None, 28, 28, 512)  0           ['conv3_block4_add[0][0]']       \n",
      "                                                                                                  \n",
      " conv4_block1_1_conv (Conv2D)   (None, 14, 14, 256)  131328      ['conv3_block4_out[0][0]']       \n",
      "                                                                                                  \n",
      " conv4_block1_1_bn (BatchNormal  (None, 14, 14, 256)  1024       ['conv4_block1_1_conv[0][0]']    \n",
      " ization)                                                                                         \n",
      "                                                                                                  \n",
      " conv4_block1_1_relu (Activatio  (None, 14, 14, 256)  0          ['conv4_block1_1_bn[0][0]']      \n",
      " n)                                                                                               \n",
      "                                                                                                  \n",
      " conv4_block1_2_conv (Conv2D)   (None, 14, 14, 256)  590080      ['conv4_block1_1_relu[0][0]']    \n",
      "                                                                                                  \n",
      " conv4_block1_2_bn (BatchNormal  (None, 14, 14, 256)  1024       ['conv4_block1_2_conv[0][0]']    \n",
      " ization)                                                                                         \n",
      "                                                                                                  \n",
      " conv4_block1_2_relu (Activatio  (None, 14, 14, 256)  0          ['conv4_block1_2_bn[0][0]']      \n",
      " n)                                                                                               \n",
      "                                                                                                  \n",
      " conv4_block1_0_conv (Conv2D)   (None, 14, 14, 1024  525312      ['conv3_block4_out[0][0]']       \n",
      "                                )                                                                 \n",
      "                                                                                                  \n",
      " conv4_block1_3_conv (Conv2D)   (None, 14, 14, 1024  263168      ['conv4_block1_2_relu[0][0]']    \n",
      "                                )                                                                 \n",
      "                                                                                                  \n",
      " conv4_block1_0_bn (BatchNormal  (None, 14, 14, 1024  4096       ['conv4_block1_0_conv[0][0]']    \n",
      " ization)                       )                                                                 \n",
      "                                                                                                  \n",
      " conv4_block1_3_bn (BatchNormal  (None, 14, 14, 1024  4096       ['conv4_block1_3_conv[0][0]']    \n",
      " ization)                       )                                                                 \n",
      "                                                                                                  \n",
      " conv4_block1_add (Add)         (None, 14, 14, 1024  0           ['conv4_block1_0_bn[0][0]',      \n",
      "                                )                                 'conv4_block1_3_bn[0][0]']      \n",
      "                                                                                                  \n",
      " conv4_block1_out (Activation)  (None, 14, 14, 1024  0           ['conv4_block1_add[0][0]']       \n",
      "                                )                                                                 \n",
      "                                                                                                  \n",
      " conv4_block2_1_conv (Conv2D)   (None, 14, 14, 256)  262400      ['conv4_block1_out[0][0]']       \n",
      "                                                                                                  \n",
      " conv4_block2_1_bn (BatchNormal  (None, 14, 14, 256)  1024       ['conv4_block2_1_conv[0][0]']    \n",
      " ization)                                                                                         \n",
      "                                                                                                  \n",
      " conv4_block2_1_relu (Activatio  (None, 14, 14, 256)  0          ['conv4_block2_1_bn[0][0]']      \n",
      " n)                                                                                               \n",
      "                                                                                                  \n",
      " conv4_block2_2_conv (Conv2D)   (None, 14, 14, 256)  590080      ['conv4_block2_1_relu[0][0]']    \n",
      "                                                                                                  \n",
      " conv4_block2_2_bn (BatchNormal  (None, 14, 14, 256)  1024       ['conv4_block2_2_conv[0][0]']    \n",
      " ization)                                                                                         \n",
      "                                                                                                  \n",
      " conv4_block2_2_relu (Activatio  (None, 14, 14, 256)  0          ['conv4_block2_2_bn[0][0]']      \n",
      " n)                                                                                               \n",
      "                                                                                                  \n",
      " conv4_block2_3_conv (Conv2D)   (None, 14, 14, 1024  263168      ['conv4_block2_2_relu[0][0]']    \n",
      "                                )                                                                 \n",
      "                                                                                                  \n",
      " conv4_block2_3_bn (BatchNormal  (None, 14, 14, 1024  4096       ['conv4_block2_3_conv[0][0]']    \n",
      " ization)                       )                                                                 \n",
      "                                                                                                  \n",
      " conv4_block2_add (Add)         (None, 14, 14, 1024  0           ['conv4_block1_out[0][0]',       \n",
      "                                )                                 'conv4_block2_3_bn[0][0]']      \n",
      "                                                                                                  \n",
      " conv4_block2_out (Activation)  (None, 14, 14, 1024  0           ['conv4_block2_add[0][0]']       \n",
      "                                )                                                                 \n",
      "                                                                                                  \n",
      " conv4_block3_1_conv (Conv2D)   (None, 14, 14, 256)  262400      ['conv4_block2_out[0][0]']       \n",
      "                                                                                                  \n",
      " conv4_block3_1_bn (BatchNormal  (None, 14, 14, 256)  1024       ['conv4_block3_1_conv[0][0]']    \n",
      " ization)                                                                                         \n",
      "                                                                                                  \n",
      " conv4_block3_1_relu (Activatio  (None, 14, 14, 256)  0          ['conv4_block3_1_bn[0][0]']      \n",
      " n)                                                                                               \n",
      "                                                                                                  \n",
      " conv4_block3_2_conv (Conv2D)   (None, 14, 14, 256)  590080      ['conv4_block3_1_relu[0][0]']    \n",
      "                                                                                                  \n",
      " conv4_block3_2_bn (BatchNormal  (None, 14, 14, 256)  1024       ['conv4_block3_2_conv[0][0]']    \n",
      " ization)                                                                                         \n",
      "                                                                                                  \n",
      " conv4_block3_2_relu (Activatio  (None, 14, 14, 256)  0          ['conv4_block3_2_bn[0][0]']      \n",
      " n)                                                                                               \n",
      "                                                                                                  \n",
      " conv4_block3_3_conv (Conv2D)   (None, 14, 14, 1024  263168      ['conv4_block3_2_relu[0][0]']    \n",
      "                                )                                                                 \n",
      "                                                                                                  \n",
      " conv4_block3_3_bn (BatchNormal  (None, 14, 14, 1024  4096       ['conv4_block3_3_conv[0][0]']    \n",
      " ization)                       )                                                                 \n",
      "                                                                                                  \n",
      " conv4_block3_add (Add)         (None, 14, 14, 1024  0           ['conv4_block2_out[0][0]',       \n",
      "                                )                                 'conv4_block3_3_bn[0][0]']      \n",
      "                                                                                                  \n",
      " conv4_block3_out (Activation)  (None, 14, 14, 1024  0           ['conv4_block3_add[0][0]']       \n",
      "                                )                                                                 \n",
      "                                                                                                  \n",
      " conv4_block4_1_conv (Conv2D)   (None, 14, 14, 256)  262400      ['conv4_block3_out[0][0]']       \n",
      "                                                                                                  \n",
      " conv4_block4_1_bn (BatchNormal  (None, 14, 14, 256)  1024       ['conv4_block4_1_conv[0][0]']    \n",
      " ization)                                                                                         \n",
      "                                                                                                  \n",
      " conv4_block4_1_relu (Activatio  (None, 14, 14, 256)  0          ['conv4_block4_1_bn[0][0]']      \n",
      " n)                                                                                               \n",
      "                                                                                                  \n",
      " conv4_block4_2_conv (Conv2D)   (None, 14, 14, 256)  590080      ['conv4_block4_1_relu[0][0]']    \n",
      "                                                                                                  \n",
      " conv4_block4_2_bn (BatchNormal  (None, 14, 14, 256)  1024       ['conv4_block4_2_conv[0][0]']    \n",
      " ization)                                                                                         \n",
      "                                                                                                  \n",
      " conv4_block4_2_relu (Activatio  (None, 14, 14, 256)  0          ['conv4_block4_2_bn[0][0]']      \n",
      " n)                                                                                               \n",
      "                                                                                                  \n",
      " conv4_block4_3_conv (Conv2D)   (None, 14, 14, 1024  263168      ['conv4_block4_2_relu[0][0]']    \n",
      "                                )                                                                 \n",
      "                                                                                                  \n",
      " conv4_block4_3_bn (BatchNormal  (None, 14, 14, 1024  4096       ['conv4_block4_3_conv[0][0]']    \n",
      " ization)                       )                                                                 \n",
      "                                                                                                  \n",
      " conv4_block4_add (Add)         (None, 14, 14, 1024  0           ['conv4_block3_out[0][0]',       \n",
      "                                )                                 'conv4_block4_3_bn[0][0]']      \n",
      "                                                                                                  \n",
      " conv4_block4_out (Activation)  (None, 14, 14, 1024  0           ['conv4_block4_add[0][0]']       \n",
      "                                )                                                                 \n",
      "                                                                                                  \n",
      " conv4_block5_1_conv (Conv2D)   (None, 14, 14, 256)  262400      ['conv4_block4_out[0][0]']       \n",
      "                                                                                                  \n",
      " conv4_block5_1_bn (BatchNormal  (None, 14, 14, 256)  1024       ['conv4_block5_1_conv[0][0]']    \n",
      " ization)                                                                                         \n",
      "                                                                                                  \n",
      " conv4_block5_1_relu (Activatio  (None, 14, 14, 256)  0          ['conv4_block5_1_bn[0][0]']      \n",
      " n)                                                                                               \n",
      "                                                                                                  \n",
      " conv4_block5_2_conv (Conv2D)   (None, 14, 14, 256)  590080      ['conv4_block5_1_relu[0][0]']    \n",
      "                                                                                                  \n",
      " conv4_block5_2_bn (BatchNormal  (None, 14, 14, 256)  1024       ['conv4_block5_2_conv[0][0]']    \n",
      " ization)                                                                                         \n",
      "                                                                                                  \n",
      " conv4_block5_2_relu (Activatio  (None, 14, 14, 256)  0          ['conv4_block5_2_bn[0][0]']      \n",
      " n)                                                                                               \n",
      "                                                                                                  \n",
      " conv4_block5_3_conv (Conv2D)   (None, 14, 14, 1024  263168      ['conv4_block5_2_relu[0][0]']    \n",
      "                                )                                                                 \n",
      "                                                                                                  \n",
      " conv4_block5_3_bn (BatchNormal  (None, 14, 14, 1024  4096       ['conv4_block5_3_conv[0][0]']    \n",
      " ization)                       )                                                                 \n",
      "                                                                                                  \n",
      " conv4_block5_add (Add)         (None, 14, 14, 1024  0           ['conv4_block4_out[0][0]',       \n",
      "                                )                                 'conv4_block5_3_bn[0][0]']      \n",
      "                                                                                                  \n",
      " conv4_block5_out (Activation)  (None, 14, 14, 1024  0           ['conv4_block5_add[0][0]']       \n",
      "                                )                                                                 \n",
      "                                                                                                  \n",
      " conv4_block6_1_conv (Conv2D)   (None, 14, 14, 256)  262400      ['conv4_block5_out[0][0]']       \n",
      "                                                                                                  \n",
      " conv4_block6_1_bn (BatchNormal  (None, 14, 14, 256)  1024       ['conv4_block6_1_conv[0][0]']    \n",
      " ization)                                                                                         \n",
      "                                                                                                  \n",
      " conv4_block6_1_relu (Activatio  (None, 14, 14, 256)  0          ['conv4_block6_1_bn[0][0]']      \n",
      " n)                                                                                               \n",
      "                                                                                                  \n",
      " conv4_block6_2_conv (Conv2D)   (None, 14, 14, 256)  590080      ['conv4_block6_1_relu[0][0]']    \n",
      "                                                                                                  \n",
      " conv4_block6_2_bn (BatchNormal  (None, 14, 14, 256)  1024       ['conv4_block6_2_conv[0][0]']    \n",
      " ization)                                                                                         \n",
      "                                                                                                  \n",
      " conv4_block6_2_relu (Activatio  (None, 14, 14, 256)  0          ['conv4_block6_2_bn[0][0]']      \n",
      " n)                                                                                               \n",
      "                                                                                                  \n",
      " conv4_block6_3_conv (Conv2D)   (None, 14, 14, 1024  263168      ['conv4_block6_2_relu[0][0]']    \n",
      "                                )                                                                 \n",
      "                                                                                                  \n",
      " conv4_block6_3_bn (BatchNormal  (None, 14, 14, 1024  4096       ['conv4_block6_3_conv[0][0]']    \n",
      " ization)                       )                                                                 \n",
      "                                                                                                  \n",
      " conv4_block6_add (Add)         (None, 14, 14, 1024  0           ['conv4_block5_out[0][0]',       \n",
      "                                )                                 'conv4_block6_3_bn[0][0]']      \n",
      "                                                                                                  \n",
      " conv4_block6_out (Activation)  (None, 14, 14, 1024  0           ['conv4_block6_add[0][0]']       \n",
      "                                )                                                                 \n",
      "                                                                                                  \n",
      " conv5_block1_1_conv (Conv2D)   (None, 7, 7, 512)    524800      ['conv4_block6_out[0][0]']       \n",
      "                                                                                                  \n",
      " conv5_block1_1_bn (BatchNormal  (None, 7, 7, 512)   2048        ['conv5_block1_1_conv[0][0]']    \n",
      " ization)                                                                                         \n",
      "                                                                                                  \n",
      " conv5_block1_1_relu (Activatio  (None, 7, 7, 512)   0           ['conv5_block1_1_bn[0][0]']      \n",
      " n)                                                                                               \n",
      "                                                                                                  \n",
      " conv5_block1_2_conv (Conv2D)   (None, 7, 7, 512)    2359808     ['conv5_block1_1_relu[0][0]']    \n",
      "                                                                                                  \n",
      " conv5_block1_2_bn (BatchNormal  (None, 7, 7, 512)   2048        ['conv5_block1_2_conv[0][0]']    \n",
      " ization)                                                                                         \n",
      "                                                                                                  \n",
      " conv5_block1_2_relu (Activatio  (None, 7, 7, 512)   0           ['conv5_block1_2_bn[0][0]']      \n",
      " n)                                                                                               \n",
      "                                                                                                  \n",
      " conv5_block1_0_conv (Conv2D)   (None, 7, 7, 2048)   2099200     ['conv4_block6_out[0][0]']       \n",
      "                                                                                                  \n",
      " conv5_block1_3_conv (Conv2D)   (None, 7, 7, 2048)   1050624     ['conv5_block1_2_relu[0][0]']    \n",
      "                                                                                                  \n",
      " conv5_block1_0_bn (BatchNormal  (None, 7, 7, 2048)  8192        ['conv5_block1_0_conv[0][0]']    \n",
      " ization)                                                                                         \n",
      "                                                                                                  \n",
      " conv5_block1_3_bn (BatchNormal  (None, 7, 7, 2048)  8192        ['conv5_block1_3_conv[0][0]']    \n",
      " ization)                                                                                         \n",
      "                                                                                                  \n",
      " conv5_block1_add (Add)         (None, 7, 7, 2048)   0           ['conv5_block1_0_bn[0][0]',      \n",
      "                                                                  'conv5_block1_3_bn[0][0]']      \n",
      "                                                                                                  \n",
      " conv5_block1_out (Activation)  (None, 7, 7, 2048)   0           ['conv5_block1_add[0][0]']       \n",
      "                                                                                                  \n",
      " conv5_block2_1_conv (Conv2D)   (None, 7, 7, 512)    1049088     ['conv5_block1_out[0][0]']       \n",
      "                                                                                                  \n",
      " conv5_block2_1_bn (BatchNormal  (None, 7, 7, 512)   2048        ['conv5_block2_1_conv[0][0]']    \n",
      " ization)                                                                                         \n",
      "                                                                                                  \n",
      " conv5_block2_1_relu (Activatio  (None, 7, 7, 512)   0           ['conv5_block2_1_bn[0][0]']      \n",
      " n)                                                                                               \n",
      "                                                                                                  \n",
      " conv5_block2_2_conv (Conv2D)   (None, 7, 7, 512)    2359808     ['conv5_block2_1_relu[0][0]']    \n",
      "                                                                                                  \n",
      " conv5_block2_2_bn (BatchNormal  (None, 7, 7, 512)   2048        ['conv5_block2_2_conv[0][0]']    \n",
      " ization)                                                                                         \n",
      "                                                                                                  \n",
      " conv5_block2_2_relu (Activatio  (None, 7, 7, 512)   0           ['conv5_block2_2_bn[0][0]']      \n",
      " n)                                                                                               \n",
      "                                                                                                  \n",
      " conv5_block2_3_conv (Conv2D)   (None, 7, 7, 2048)   1050624     ['conv5_block2_2_relu[0][0]']    \n",
      "                                                                                                  \n",
      " conv5_block2_3_bn (BatchNormal  (None, 7, 7, 2048)  8192        ['conv5_block2_3_conv[0][0]']    \n",
      " ization)                                                                                         \n",
      "                                                                                                  \n",
      " conv5_block2_add (Add)         (None, 7, 7, 2048)   0           ['conv5_block1_out[0][0]',       \n",
      "                                                                  'conv5_block2_3_bn[0][0]']      \n",
      "                                                                                                  \n",
      " conv5_block2_out (Activation)  (None, 7, 7, 2048)   0           ['conv5_block2_add[0][0]']       \n",
      "                                                                                                  \n",
      " conv5_block3_1_conv (Conv2D)   (None, 7, 7, 512)    1049088     ['conv5_block2_out[0][0]']       \n",
      "                                                                                                  \n",
      " conv5_block3_1_bn (BatchNormal  (None, 7, 7, 512)   2048        ['conv5_block3_1_conv[0][0]']    \n",
      " ization)                                                                                         \n",
      "                                                                                                  \n",
      " conv5_block3_1_relu (Activatio  (None, 7, 7, 512)   0           ['conv5_block3_1_bn[0][0]']      \n",
      " n)                                                                                               \n",
      "                                                                                                  \n",
      " conv5_block3_2_conv (Conv2D)   (None, 7, 7, 512)    2359808     ['conv5_block3_1_relu[0][0]']    \n",
      "                                                                                                  \n",
      " conv5_block3_2_bn (BatchNormal  (None, 7, 7, 512)   2048        ['conv5_block3_2_conv[0][0]']    \n",
      " ization)                                                                                         \n",
      "                                                                                                  \n",
      " conv5_block3_2_relu (Activatio  (None, 7, 7, 512)   0           ['conv5_block3_2_bn[0][0]']      \n",
      " n)                                                                                               \n",
      "                                                                                                  \n",
      " conv5_block3_3_conv (Conv2D)   (None, 7, 7, 2048)   1050624     ['conv5_block3_2_relu[0][0]']    \n",
      "                                                                                                  \n",
      " conv5_block3_3_bn (BatchNormal  (None, 7, 7, 2048)  8192        ['conv5_block3_3_conv[0][0]']    \n",
      " ization)                                                                                         \n",
      "                                                                                                  \n",
      " conv5_block3_add (Add)         (None, 7, 7, 2048)   0           ['conv5_block2_out[0][0]',       \n",
      "                                                                  'conv5_block3_3_bn[0][0]']      \n",
      "                                                                                                  \n",
      " conv5_block3_out (Activation)  (None, 7, 7, 2048)   0           ['conv5_block3_add[0][0]']       \n",
      "                                                                                                  \n",
      "==================================================================================================\n",
      "Total params: 23,587,712\n",
      "Trainable params: 0\n",
      "Non-trainable params: 23,587,712\n",
      "__________________________________________________________________________________________________\n"
     ]
    }
   ],
   "source": [
    "model.summary()"
   ]
  },
  {
   "cell_type": "code",
   "execution_count": 4,
   "metadata": {},
   "outputs": [
    {
     "name": "stdout",
     "output_type": "stream",
     "text": [
      "Model: \"sequential\"\n",
      "_________________________________________________________________\n",
      " Layer (type)                Output Shape              Param #   \n",
      "=================================================================\n",
      " resnet50 (Functional)       (None, 7, 7, 2048)        23587712  \n",
      "                                                                 \n",
      " global_max_pooling2d (Globa  (None, 2048)             0         \n",
      " lMaxPooling2D)                                                  \n",
      "                                                                 \n",
      "=================================================================\n",
      "Total params: 23,587,712\n",
      "Trainable params: 0\n",
      "Non-trainable params: 23,587,712\n",
      "_________________________________________________________________\n"
     ]
    }
   ],
   "source": [
    "# add model to sequentia with global max pooling to 2d tensor\n",
    "model = tensorflow.keras.Sequential([\n",
    "    model,\n",
    "    GlobalMaxPooling2D()\n",
    "])\n",
    "model.summary()"
   ]
  },
  {
   "cell_type": "markdown",
   "metadata": {},
   "source": [
    "pada model resnet dari 224 feature menjadi sebuah 7 feature dengan sebuah instances adalah 2048"
   ]
  },
  {
   "cell_type": "code",
   "execution_count": 5,
   "metadata": {},
   "outputs": [],
   "source": [
    "def extract_features(img_path,model):\n",
    "    img = image.load_img(img_path,target_size=(224,224))\n",
    "    img_array = image.img_to_array(img)\n",
    "    expanded_img_array = np.expand_dims(img_array,axis=0)\n",
    "    preprocessed_img = preprocess_input(expanded_img_array)\n",
    "    result = model.predict(preprocessed_img).flatten()\n",
    "    normalized_result = result / norm(result)\n",
    "    return normalized_result\n"
   ]
  },
  {
   "cell_type": "code",
   "execution_count": 6,
   "metadata": {},
   "outputs": [],
   "source": [
    "filenames = []\n",
    "for file in os.listdir('images'):\n",
    "    filenames.append(os.path.join('images',file))"
   ]
  },
  {
   "cell_type": "code",
   "execution_count": 7,
   "metadata": {},
   "outputs": [
    {
     "data": {
      "text/plain": [
       "['images\\\\10000.jpg',\n",
       " 'images\\\\10001.jpg',\n",
       " 'images\\\\10002.jpg',\n",
       " 'images\\\\10003.jpg',\n",
       " 'images\\\\10004.jpg',\n",
       " 'images\\\\10005.jpg',\n",
       " 'images\\\\10006.jpg',\n",
       " 'images\\\\10007.jpg',\n",
       " 'images\\\\10008.jpg',\n",
       " 'images\\\\10009.jpg',\n",
       " 'images\\\\10010.jpg',\n",
       " 'images\\\\10011.jpg',\n",
       " 'images\\\\10012.jpg',\n",
       " 'images\\\\10013.jpg',\n",
       " 'images\\\\10014.jpg',\n",
       " 'images\\\\10015.jpg',\n",
       " 'images\\\\10016.jpg',\n",
       " 'images\\\\10017.jpg',\n",
       " 'images\\\\10018.jpg',\n",
       " 'images\\\\10019.jpg',\n",
       " 'images\\\\10020.jpg',\n",
       " 'images\\\\10021.jpg',\n",
       " 'images\\\\10022.jpg',\n",
       " 'images\\\\10023.jpg',\n",
       " 'images\\\\10024.jpg',\n",
       " 'images\\\\10025.jpg',\n",
       " 'images\\\\10026.jpg',\n",
       " 'images\\\\10027.jpg',\n",
       " 'images\\\\10028.jpg',\n",
       " 'images\\\\10029.jpg',\n",
       " 'images\\\\10030.jpg',\n",
       " 'images\\\\10031.jpg',\n",
       " 'images\\\\10032.jpg',\n",
       " 'images\\\\10033.jpg',\n",
       " 'images\\\\10034.jpg',\n",
       " 'images\\\\10035.jpg',\n",
       " 'images\\\\10037.jpg',\n",
       " 'images\\\\10039.jpg',\n",
       " 'images\\\\10040.jpg',\n",
       " 'images\\\\10041.jpg',\n",
       " 'images\\\\10042.jpg',\n",
       " 'images\\\\10043.jpg',\n",
       " 'images\\\\10044.jpg',\n",
       " 'images\\\\10045.jpg',\n",
       " 'images\\\\10046.jpg',\n",
       " 'images\\\\10047.jpg',\n",
       " 'images\\\\10048.jpg',\n",
       " 'images\\\\10049.jpg',\n",
       " 'images\\\\10050.jpg',\n",
       " 'images\\\\10051.jpg',\n",
       " 'images\\\\10052.jpg',\n",
       " 'images\\\\10053.jpg',\n",
       " 'images\\\\10054.jpg',\n",
       " 'images\\\\10056.jpg',\n",
       " 'images\\\\10057.jpg',\n",
       " 'images\\\\10058.jpg',\n",
       " 'images\\\\10059.jpg',\n",
       " 'images\\\\10060.jpg',\n",
       " 'images\\\\10061.jpg',\n",
       " 'images\\\\10062.jpg',\n",
       " 'images\\\\10063.jpg',\n",
       " 'images\\\\10064.jpg',\n",
       " 'images\\\\10065.jpg',\n",
       " 'images\\\\10066.jpg',\n",
       " 'images\\\\10067.jpg',\n",
       " 'images\\\\10068.jpg',\n",
       " 'images\\\\10069.jpg',\n",
       " 'images\\\\10070.jpg',\n",
       " 'images\\\\10071.jpg',\n",
       " 'images\\\\10072.jpg',\n",
       " 'images\\\\10073.jpg',\n",
       " 'images\\\\10074.jpg',\n",
       " 'images\\\\10075.jpg',\n",
       " 'images\\\\10076.jpg',\n",
       " 'images\\\\10078.jpg',\n",
       " 'images\\\\10079.jpg',\n",
       " 'images\\\\10080.jpg',\n",
       " 'images\\\\10081.jpg',\n",
       " 'images\\\\10082.jpg',\n",
       " 'images\\\\10083.jpg',\n",
       " 'images\\\\10088.jpg',\n",
       " 'images\\\\10089.jpg',\n",
       " 'images\\\\10092.jpg',\n",
       " 'images\\\\10093.jpg',\n",
       " 'images\\\\10095.jpg',\n",
       " 'images\\\\10096.jpg',\n",
       " 'images\\\\10097.jpg',\n",
       " 'images\\\\10098.jpg',\n",
       " 'images\\\\10099.jpg',\n",
       " 'images\\\\10101.jpg',\n",
       " 'images\\\\10102.jpg',\n",
       " 'images\\\\10104.jpg',\n",
       " 'images\\\\10105.jpg',\n",
       " 'images\\\\10106.jpg',\n",
       " 'images\\\\10107.jpg',\n",
       " 'images\\\\10108.jpg',\n",
       " 'images\\\\10109.jpg',\n",
       " 'images\\\\10110.jpg',\n",
       " 'images\\\\10111.jpg',\n",
       " 'images\\\\10112.jpg',\n",
       " 'images\\\\10113.jpg',\n",
       " 'images\\\\10114.jpg',\n",
       " 'images\\\\10115.jpg',\n",
       " 'images\\\\10117.jpg',\n",
       " 'images\\\\10122.jpg',\n",
       " 'images\\\\10125.jpg',\n",
       " 'images\\\\10126.jpg',\n",
       " 'images\\\\10127.jpg',\n",
       " 'images\\\\10128.jpg',\n",
       " 'images\\\\10129.jpg',\n",
       " 'images\\\\10130.jpg',\n",
       " 'images\\\\10131.jpg',\n",
       " 'images\\\\10133.jpg',\n",
       " 'images\\\\10134.jpg',\n",
       " 'images\\\\10135.jpg',\n",
       " 'images\\\\10136.jpg',\n",
       " 'images\\\\10137.jpg',\n",
       " 'images\\\\10138.jpg',\n",
       " 'images\\\\10139.jpg',\n",
       " 'images\\\\10140.jpg',\n",
       " 'images\\\\10141.jpg',\n",
       " 'images\\\\10142.jpg',\n",
       " 'images\\\\10143.jpg',\n",
       " 'images\\\\10144.jpg',\n",
       " 'images\\\\10145.jpg',\n",
       " 'images\\\\10146.jpg',\n",
       " 'images\\\\10147.jpg',\n",
       " 'images\\\\10148.jpg',\n",
       " 'images\\\\10149.jpg',\n",
       " 'images\\\\10150.jpg',\n",
       " 'images\\\\10151.jpg',\n",
       " 'images\\\\10152.jpg',\n",
       " 'images\\\\10153.jpg',\n",
       " 'images\\\\10154.jpg',\n",
       " 'images\\\\10155.jpg',\n",
       " 'images\\\\10156.jpg',\n",
       " 'images\\\\10157.jpg',\n",
       " 'images\\\\10158.jpg',\n",
       " 'images\\\\10159.jpg',\n",
       " 'images\\\\10160.jpg',\n",
       " 'images\\\\10161.jpg',\n",
       " 'images\\\\10162.jpg',\n",
       " 'images\\\\10164.jpg',\n",
       " 'images\\\\10166.jpg',\n",
       " 'images\\\\10167.jpg',\n",
       " 'images\\\\10168.jpg',\n",
       " 'images\\\\10169.jpg',\n",
       " 'images\\\\10170.jpg',\n",
       " 'images\\\\10171.jpg',\n",
       " 'images\\\\10172.jpg',\n",
       " 'images\\\\10173.jpg',\n",
       " 'images\\\\10174.jpg',\n",
       " 'images\\\\10175.jpg',\n",
       " 'images\\\\10176.jpg',\n",
       " 'images\\\\10177.jpg',\n",
       " 'images\\\\10178.jpg',\n",
       " 'images\\\\10179.jpg',\n",
       " 'images\\\\10180.jpg',\n",
       " 'images\\\\10181.jpg',\n",
       " 'images\\\\10182.jpg',\n",
       " 'images\\\\10183.jpg',\n",
       " 'images\\\\10184.jpg',\n",
       " 'images\\\\10185.jpg',\n",
       " 'images\\\\10186.jpg',\n",
       " 'images\\\\10187.jpg',\n",
       " 'images\\\\10188.jpg',\n",
       " 'images\\\\10189.jpg',\n",
       " 'images\\\\10190.jpg',\n",
       " 'images\\\\10192.jpg',\n",
       " 'images\\\\10193.jpg',\n",
       " 'images\\\\10194.jpg',\n",
       " 'images\\\\10195.jpg',\n",
       " 'images\\\\10196.jpg',\n",
       " 'images\\\\10197.jpg',\n",
       " 'images\\\\10198.jpg',\n",
       " 'images\\\\10199.jpg',\n",
       " 'images\\\\10200.jpg',\n",
       " 'images\\\\10202.jpg',\n",
       " 'images\\\\10203.jpg',\n",
       " 'images\\\\10204.jpg',\n",
       " 'images\\\\10205.jpg',\n",
       " 'images\\\\10207.jpg',\n",
       " 'images\\\\10208.jpg',\n",
       " 'images\\\\10209.jpg',\n",
       " 'images\\\\10210.jpg',\n",
       " 'images\\\\10211.jpg',\n",
       " 'images\\\\10213.jpg',\n",
       " 'images\\\\10214.jpg',\n",
       " 'images\\\\10215.jpg',\n",
       " 'images\\\\10216.jpg',\n",
       " 'images\\\\10217.jpg',\n",
       " 'images\\\\10219.jpg',\n",
       " 'images\\\\10220.jpg',\n",
       " 'images\\\\10221.jpg',\n",
       " 'images\\\\10222.jpg',\n",
       " 'images\\\\10223.jpg',\n",
       " 'images\\\\10224.jpg',\n",
       " 'images\\\\10225.jpg',\n",
       " 'images\\\\10226.jpg',\n",
       " 'images\\\\10227.jpg',\n",
       " 'images\\\\10228.jpg',\n",
       " 'images\\\\10229.jpg',\n",
       " 'images\\\\10230.jpg',\n",
       " 'images\\\\10231.jpg',\n",
       " 'images\\\\10235.jpg',\n",
       " 'images\\\\10236.jpg',\n",
       " 'images\\\\10237.jpg',\n",
       " 'images\\\\10238.jpg',\n",
       " 'images\\\\10239.jpg',\n",
       " 'images\\\\10240.jpg',\n",
       " 'images\\\\10241.jpg',\n",
       " 'images\\\\10242.jpg',\n",
       " 'images\\\\10243.jpg',\n",
       " 'images\\\\10244.jpg',\n",
       " 'images\\\\10245.jpg',\n",
       " 'images\\\\10246.jpg',\n",
       " 'images\\\\10247.jpg',\n",
       " 'images\\\\10248.jpg',\n",
       " 'images\\\\10249.jpg',\n",
       " 'images\\\\10250.jpg',\n",
       " 'images\\\\10252.jpg',\n",
       " 'images\\\\10253.jpg',\n",
       " 'images\\\\10254.jpg',\n",
       " 'images\\\\10255.jpg',\n",
       " 'images\\\\10256.jpg',\n",
       " 'images\\\\10257.jpg',\n",
       " 'images\\\\10258.jpg',\n",
       " 'images\\\\10259.jpg',\n",
       " 'images\\\\10260.jpg',\n",
       " 'images\\\\10261.jpg',\n",
       " 'images\\\\10262.jpg',\n",
       " 'images\\\\10263.jpg',\n",
       " 'images\\\\10264.jpg',\n",
       " 'images\\\\10265.jpg',\n",
       " 'images\\\\10266.jpg',\n",
       " 'images\\\\10267.jpg',\n",
       " 'images\\\\10268.jpg',\n",
       " 'images\\\\10269.jpg',\n",
       " 'images\\\\10270.jpg',\n",
       " 'images\\\\10271.jpg',\n",
       " 'images\\\\10272.jpg',\n",
       " 'images\\\\10273.jpg',\n",
       " 'images\\\\10274.jpg',\n",
       " 'images\\\\10275.jpg',\n",
       " 'images\\\\10276.jpg',\n",
       " 'images\\\\10277.jpg',\n",
       " 'images\\\\10278.jpg',\n",
       " 'images\\\\10279.jpg',\n",
       " 'images\\\\10280.jpg',\n",
       " 'images\\\\10281.jpg',\n",
       " 'images\\\\10282.jpg',\n",
       " 'images\\\\10283.jpg',\n",
       " 'images\\\\10284.jpg',\n",
       " 'images\\\\10285.jpg',\n",
       " 'images\\\\10286.jpg',\n",
       " 'images\\\\10287.jpg',\n",
       " 'images\\\\10288.jpg',\n",
       " 'images\\\\10289.jpg',\n",
       " 'images\\\\10290.jpg',\n",
       " 'images\\\\10292.jpg',\n",
       " 'images\\\\10293.jpg',\n",
       " 'images\\\\10294.jpg',\n",
       " 'images\\\\10295.jpg',\n",
       " 'images\\\\10296.jpg',\n",
       " 'images\\\\10297.jpg',\n",
       " 'images\\\\10298.jpg',\n",
       " 'images\\\\10299.jpg',\n",
       " 'images\\\\10300.jpg',\n",
       " 'images\\\\10301.jpg',\n",
       " 'images\\\\10302.jpg',\n",
       " 'images\\\\10303.jpg',\n",
       " 'images\\\\10304.jpg',\n",
       " 'images\\\\10305.jpg',\n",
       " 'images\\\\10306.jpg',\n",
       " 'images\\\\10307.jpg',\n",
       " 'images\\\\10308.jpg',\n",
       " 'images\\\\10309.jpg',\n",
       " 'images\\\\10312.jpg',\n",
       " 'images\\\\10313.jpg',\n",
       " 'images\\\\10314.jpg',\n",
       " 'images\\\\10315.jpg',\n",
       " 'images\\\\10316.jpg',\n",
       " 'images\\\\10317.jpg',\n",
       " 'images\\\\10318.jpg',\n",
       " 'images\\\\10319.jpg',\n",
       " 'images\\\\10320.jpg',\n",
       " 'images\\\\10321.jpg',\n",
       " 'images\\\\10322.jpg',\n",
       " 'images\\\\10323.jpg',\n",
       " 'images\\\\10324.jpg',\n",
       " 'images\\\\10325.jpg',\n",
       " 'images\\\\10326.jpg',\n",
       " 'images\\\\10327.jpg',\n",
       " 'images\\\\10328.jpg',\n",
       " 'images\\\\10329.jpg',\n",
       " 'images\\\\10330.jpg',\n",
       " 'images\\\\10331.jpg',\n",
       " 'images\\\\10332.jpg',\n",
       " 'images\\\\10333.jpg',\n",
       " 'images\\\\10334.jpg',\n",
       " 'images\\\\10335.jpg',\n",
       " 'images\\\\10336.jpg',\n",
       " 'images\\\\10338.jpg',\n",
       " 'images\\\\10339.jpg',\n",
       " 'images\\\\10340.jpg',\n",
       " 'images\\\\10341.jpg',\n",
       " 'images\\\\10342.jpg',\n",
       " 'images\\\\10343.jpg',\n",
       " 'images\\\\10344.jpg',\n",
       " 'images\\\\10345.jpg',\n",
       " 'images\\\\10346.jpg',\n",
       " 'images\\\\10347.jpg',\n",
       " 'images\\\\10348.jpg',\n",
       " 'images\\\\10350.jpg',\n",
       " 'images\\\\10351.jpg',\n",
       " 'images\\\\10352.jpg',\n",
       " 'images\\\\10354.jpg',\n",
       " 'images\\\\10355.jpg',\n",
       " 'images\\\\10356.jpg',\n",
       " 'images\\\\10357.jpg',\n",
       " 'images\\\\10358.jpg',\n",
       " 'images\\\\10359.jpg',\n",
       " 'images\\\\10360.jpg',\n",
       " 'images\\\\10361.jpg',\n",
       " 'images\\\\10362.jpg',\n",
       " 'images\\\\10363.jpg',\n",
       " 'images\\\\10364.jpg',\n",
       " 'images\\\\10365.jpg',\n",
       " 'images\\\\10366.jpg',\n",
       " 'images\\\\10367.jpg',\n",
       " 'images\\\\10369.jpg',\n",
       " 'images\\\\10370.jpg',\n",
       " 'images\\\\10371.jpg',\n",
       " 'images\\\\10372.jpg',\n",
       " 'images\\\\10373.jpg',\n",
       " 'images\\\\10374.jpg',\n",
       " 'images\\\\10376.jpg',\n",
       " 'images\\\\10377.jpg',\n",
       " 'images\\\\10378.jpg',\n",
       " 'images\\\\10379.jpg',\n",
       " 'images\\\\10380.jpg',\n",
       " 'images\\\\10381.jpg',\n",
       " 'images\\\\10382.jpg',\n",
       " 'images\\\\10383.jpg',\n",
       " 'images\\\\10384.jpg',\n",
       " 'images\\\\10385.jpg',\n",
       " 'images\\\\10386.jpg',\n",
       " 'images\\\\10387.jpg',\n",
       " 'images\\\\10388.jpg',\n",
       " 'images\\\\10389.jpg',\n",
       " 'images\\\\10390.jpg',\n",
       " 'images\\\\10391.jpg',\n",
       " 'images\\\\10392.jpg',\n",
       " 'images\\\\10393.jpg',\n",
       " 'images\\\\10394.jpg',\n",
       " 'images\\\\10395.jpg',\n",
       " 'images\\\\10396.jpg',\n",
       " 'images\\\\10397.jpg',\n",
       " 'images\\\\10398.jpg',\n",
       " 'images\\\\10399.jpg',\n",
       " 'images\\\\10400.jpg',\n",
       " 'images\\\\10401.jpg',\n",
       " 'images\\\\10402.jpg',\n",
       " 'images\\\\10403.jpg',\n",
       " 'images\\\\10404.jpg',\n",
       " 'images\\\\10405.jpg',\n",
       " 'images\\\\10406.jpg',\n",
       " 'images\\\\10407.jpg',\n",
       " 'images\\\\10408.jpg',\n",
       " 'images\\\\10409.jpg',\n",
       " 'images\\\\10410.jpg',\n",
       " 'images\\\\10411.jpg',\n",
       " 'images\\\\10412.jpg',\n",
       " 'images\\\\10413.jpg',\n",
       " 'images\\\\10414.jpg',\n",
       " 'images\\\\10415.jpg',\n",
       " 'images\\\\10418.jpg',\n",
       " 'images\\\\10421.jpg',\n",
       " 'images\\\\10423.jpg',\n",
       " 'images\\\\10424.jpg',\n",
       " 'images\\\\10425.jpg',\n",
       " 'images\\\\10426.jpg',\n",
       " 'images\\\\10427.jpg',\n",
       " 'images\\\\10428.jpg',\n",
       " 'images\\\\10429.jpg',\n",
       " 'images\\\\10430.jpg',\n",
       " 'images\\\\10431.jpg',\n",
       " 'images\\\\10432.jpg',\n",
       " 'images\\\\10433.jpg',\n",
       " 'images\\\\10434.jpg',\n",
       " 'images\\\\10435.jpg',\n",
       " 'images\\\\10436.jpg',\n",
       " 'images\\\\10437.jpg',\n",
       " 'images\\\\10438.jpg',\n",
       " 'images\\\\10439.jpg',\n",
       " 'images\\\\10440.jpg',\n",
       " 'images\\\\10441.jpg',\n",
       " 'images\\\\10442.jpg',\n",
       " 'images\\\\10443.jpg',\n",
       " 'images\\\\10444.jpg',\n",
       " 'images\\\\10445.jpg',\n",
       " 'images\\\\10446.jpg',\n",
       " 'images\\\\10447.jpg',\n",
       " 'images\\\\10448.jpg',\n",
       " 'images\\\\10449.jpg',\n",
       " 'images\\\\10450.jpg',\n",
       " 'images\\\\10451.jpg',\n",
       " 'images\\\\10452.jpg',\n",
       " 'images\\\\10453.jpg',\n",
       " 'images\\\\10454.jpg',\n",
       " 'images\\\\10455.jpg',\n",
       " 'images\\\\10456.jpg',\n",
       " 'images\\\\10457.jpg',\n",
       " 'images\\\\10458.jpg',\n",
       " 'images\\\\10459.jpg',\n",
       " 'images\\\\10460.jpg',\n",
       " 'images\\\\10461.jpg',\n",
       " 'images\\\\10462.jpg',\n",
       " 'images\\\\10463.jpg',\n",
       " 'images\\\\10464.jpg',\n",
       " 'images\\\\10465.jpg',\n",
       " 'images\\\\10466.jpg',\n",
       " 'images\\\\10467.jpg',\n",
       " 'images\\\\10468.jpg',\n",
       " 'images\\\\10469.jpg',\n",
       " 'images\\\\10470.jpg',\n",
       " 'images\\\\10471.jpg',\n",
       " 'images\\\\10472.jpg',\n",
       " 'images\\\\10473.jpg',\n",
       " 'images\\\\10474.jpg',\n",
       " 'images\\\\10475.jpg',\n",
       " 'images\\\\10476.jpg',\n",
       " 'images\\\\10477.jpg',\n",
       " 'images\\\\10478.jpg',\n",
       " 'images\\\\10479.jpg',\n",
       " 'images\\\\10480.jpg',\n",
       " 'images\\\\10481.jpg',\n",
       " 'images\\\\10482.jpg',\n",
       " 'images\\\\10483.jpg',\n",
       " 'images\\\\10484.jpg',\n",
       " 'images\\\\10485.jpg',\n",
       " 'images\\\\10486.jpg',\n",
       " 'images\\\\10487.jpg',\n",
       " 'images\\\\10488.jpg',\n",
       " 'images\\\\10489.jpg',\n",
       " 'images\\\\10490.jpg',\n",
       " 'images\\\\10491.jpg',\n",
       " 'images\\\\10492.jpg',\n",
       " 'images\\\\10493.jpg',\n",
       " 'images\\\\10494.jpg',\n",
       " 'images\\\\10495.jpg',\n",
       " 'images\\\\10496.jpg',\n",
       " 'images\\\\10497.jpg',\n",
       " 'images\\\\10498.jpg',\n",
       " 'images\\\\10499.jpg',\n",
       " 'images\\\\10500.jpg',\n",
       " 'images\\\\10501.jpg',\n",
       " 'images\\\\10502.jpg',\n",
       " 'images\\\\10503.jpg',\n",
       " 'images\\\\10504.jpg',\n",
       " 'images\\\\10505.jpg',\n",
       " 'images\\\\10506.jpg',\n",
       " 'images\\\\10507.jpg',\n",
       " 'images\\\\10508.jpg',\n",
       " 'images\\\\10509.jpg',\n",
       " 'images\\\\10510.jpg',\n",
       " 'images\\\\10511.jpg',\n",
       " 'images\\\\10512.jpg',\n",
       " 'images\\\\10513.jpg',\n",
       " 'images\\\\10514.jpg',\n",
       " 'images\\\\10517.jpg',\n",
       " 'images\\\\10533.jpg',\n",
       " 'images\\\\10563.jpg',\n",
       " 'images\\\\10564.jpg',\n",
       " 'images\\\\10565.jpg',\n",
       " 'images\\\\10566.jpg',\n",
       " 'images\\\\10567.jpg',\n",
       " 'images\\\\10568.jpg',\n",
       " 'images\\\\10569.jpg',\n",
       " 'images\\\\10570.jpg',\n",
       " 'images\\\\10571.jpg',\n",
       " 'images\\\\10572.jpg',\n",
       " 'images\\\\10573.jpg',\n",
       " 'images\\\\10574.jpg',\n",
       " 'images\\\\10575.jpg',\n",
       " 'images\\\\10576.jpg',\n",
       " 'images\\\\10577.jpg',\n",
       " 'images\\\\10578.jpg',\n",
       " 'images\\\\10579.jpg',\n",
       " 'images\\\\10580.jpg',\n",
       " 'images\\\\10581.jpg',\n",
       " 'images\\\\10582.jpg',\n",
       " 'images\\\\10583.jpg',\n",
       " 'images\\\\10584.jpg',\n",
       " 'images\\\\10585.jpg',\n",
       " 'images\\\\10587.jpg',\n",
       " 'images\\\\10588.jpg',\n",
       " 'images\\\\10593.jpg',\n",
       " 'images\\\\10594.jpg',\n",
       " 'images\\\\10595.jpg',\n",
       " 'images\\\\10596.jpg',\n",
       " 'images\\\\10597.jpg',\n",
       " 'images\\\\10598.jpg',\n",
       " 'images\\\\10599.jpg',\n",
       " 'images\\\\10601.jpg',\n",
       " 'images\\\\10602.jpg',\n",
       " 'images\\\\10603.jpg',\n",
       " 'images\\\\10604.jpg',\n",
       " 'images\\\\10605.jpg',\n",
       " 'images\\\\10606.jpg',\n",
       " 'images\\\\10607.jpg',\n",
       " 'images\\\\10608.jpg',\n",
       " 'images\\\\10609.jpg',\n",
       " 'images\\\\10610.jpg',\n",
       " 'images\\\\10611.jpg',\n",
       " 'images\\\\10612.jpg',\n",
       " 'images\\\\10613.jpg',\n",
       " 'images\\\\10615.jpg',\n",
       " 'images\\\\10616.jpg',\n",
       " 'images\\\\10618.jpg',\n",
       " 'images\\\\10619.jpg',\n",
       " 'images\\\\10620.jpg',\n",
       " 'images\\\\10621.jpg',\n",
       " 'images\\\\10622.jpg',\n",
       " 'images\\\\10623.jpg',\n",
       " 'images\\\\10624.jpg',\n",
       " 'images\\\\10626.jpg',\n",
       " 'images\\\\10627.jpg',\n",
       " 'images\\\\10628.jpg',\n",
       " 'images\\\\10629.jpg',\n",
       " 'images\\\\10630.jpg',\n",
       " 'images\\\\10631.jpg',\n",
       " 'images\\\\10632.jpg',\n",
       " 'images\\\\10633.jpg',\n",
       " 'images\\\\10634.jpg',\n",
       " 'images\\\\10635.jpg',\n",
       " 'images\\\\10636.jpg',\n",
       " 'images\\\\10637.jpg',\n",
       " 'images\\\\10638.jpg',\n",
       " 'images\\\\10639.jpg',\n",
       " 'images\\\\10640.jpg',\n",
       " 'images\\\\10641.jpg',\n",
       " 'images\\\\10642.jpg',\n",
       " 'images\\\\10643.jpg',\n",
       " 'images\\\\10644.jpg',\n",
       " 'images\\\\10645.jpg',\n",
       " 'images\\\\10646.jpg',\n",
       " 'images\\\\10647.jpg',\n",
       " 'images\\\\10649.jpg',\n",
       " 'images\\\\10650.jpg',\n",
       " 'images\\\\10652.jpg',\n",
       " 'images\\\\10654.jpg',\n",
       " 'images\\\\10655.jpg',\n",
       " 'images\\\\10656.jpg',\n",
       " 'images\\\\10658.jpg',\n",
       " 'images\\\\10660.jpg',\n",
       " 'images\\\\10661.jpg',\n",
       " 'images\\\\10662.jpg',\n",
       " 'images\\\\10664.jpg',\n",
       " 'images\\\\10665.jpg',\n",
       " 'images\\\\10669.jpg',\n",
       " 'images\\\\10670.jpg',\n",
       " 'images\\\\10671.jpg',\n",
       " 'images\\\\10672.jpg',\n",
       " 'images\\\\10673.jpg',\n",
       " 'images\\\\10674.jpg',\n",
       " 'images\\\\10675.jpg',\n",
       " 'images\\\\10676.jpg',\n",
       " 'images\\\\10677.jpg',\n",
       " 'images\\\\10678.jpg',\n",
       " 'images\\\\10680.jpg',\n",
       " 'images\\\\10681.jpg',\n",
       " 'images\\\\10682.jpg',\n",
       " 'images\\\\10683.jpg',\n",
       " 'images\\\\10684.jpg',\n",
       " 'images\\\\10685.jpg',\n",
       " 'images\\\\10689.jpg',\n",
       " 'images\\\\10690.jpg',\n",
       " 'images\\\\10691.jpg',\n",
       " 'images\\\\10692.jpg',\n",
       " 'images\\\\10693.jpg',\n",
       " 'images\\\\10694.jpg',\n",
       " 'images\\\\10698.jpg',\n",
       " 'images\\\\10699.jpg',\n",
       " 'images\\\\10700.jpg',\n",
       " 'images\\\\10701.jpg',\n",
       " 'images\\\\10702.jpg',\n",
       " 'images\\\\10704.jpg',\n",
       " 'images\\\\10705.jpg',\n",
       " 'images\\\\10706.jpg',\n",
       " 'images\\\\10707.jpg',\n",
       " 'images\\\\10708.jpg',\n",
       " 'images\\\\10709.jpg',\n",
       " 'images\\\\10710.jpg',\n",
       " 'images\\\\10711.jpg',\n",
       " 'images\\\\10712.jpg',\n",
       " 'images\\\\10713.jpg',\n",
       " 'images\\\\10714.jpg',\n",
       " 'images\\\\10715.jpg',\n",
       " 'images\\\\10716.jpg',\n",
       " 'images\\\\10717.jpg',\n",
       " 'images\\\\10718.jpg',\n",
       " 'images\\\\10719.jpg',\n",
       " 'images\\\\10720.jpg',\n",
       " 'images\\\\10721.jpg',\n",
       " 'images\\\\10722.jpg',\n",
       " 'images\\\\10723.jpg',\n",
       " 'images\\\\10724.jpg',\n",
       " 'images\\\\10725.jpg',\n",
       " 'images\\\\10726.jpg',\n",
       " 'images\\\\10727.jpg',\n",
       " 'images\\\\10728.jpg',\n",
       " 'images\\\\10729.jpg',\n",
       " 'images\\\\10730.jpg',\n",
       " 'images\\\\10731.jpg',\n",
       " 'images\\\\10732.jpg',\n",
       " 'images\\\\10733.jpg',\n",
       " 'images\\\\10734.jpg',\n",
       " 'images\\\\10735.jpg',\n",
       " 'images\\\\10736.jpg',\n",
       " 'images\\\\10737.jpg',\n",
       " 'images\\\\10738.jpg',\n",
       " 'images\\\\10739.jpg',\n",
       " 'images\\\\10740.jpg',\n",
       " 'images\\\\10741.jpg',\n",
       " 'images\\\\10742.jpg',\n",
       " 'images\\\\10743.jpg',\n",
       " 'images\\\\10744.jpg',\n",
       " 'images\\\\10746.jpg',\n",
       " 'images\\\\10747.jpg',\n",
       " 'images\\\\10748.jpg',\n",
       " 'images\\\\10749.jpg',\n",
       " 'images\\\\10750.jpg',\n",
       " 'images\\\\10751.jpg',\n",
       " 'images\\\\10752.jpg',\n",
       " 'images\\\\10753.jpg',\n",
       " 'images\\\\10754.jpg',\n",
       " 'images\\\\10755.jpg',\n",
       " 'images\\\\10756.jpg',\n",
       " 'images\\\\10757.jpg',\n",
       " 'images\\\\10758.jpg',\n",
       " 'images\\\\10759.jpg',\n",
       " 'images\\\\10760.jpg',\n",
       " 'images\\\\10761.jpg',\n",
       " 'images\\\\10762.jpg',\n",
       " 'images\\\\10763.jpg',\n",
       " 'images\\\\10764.jpg',\n",
       " 'images\\\\10765.jpg',\n",
       " 'images\\\\10766.jpg',\n",
       " 'images\\\\10767.jpg',\n",
       " 'images\\\\10768.jpg',\n",
       " 'images\\\\10769.jpg',\n",
       " 'images\\\\10770.jpg',\n",
       " 'images\\\\10771.jpg',\n",
       " 'images\\\\10772.jpg',\n",
       " 'images\\\\10773.jpg',\n",
       " 'images\\\\10774.jpg',\n",
       " 'images\\\\10775.jpg',\n",
       " 'images\\\\10776.jpg',\n",
       " 'images\\\\10777.jpg',\n",
       " 'images\\\\10778.jpg',\n",
       " 'images\\\\10783.jpg',\n",
       " 'images\\\\10784.jpg',\n",
       " 'images\\\\10785.jpg',\n",
       " 'images\\\\10786.jpg',\n",
       " 'images\\\\10787.jpg',\n",
       " 'images\\\\10788.jpg',\n",
       " 'images\\\\10789.jpg',\n",
       " 'images\\\\10790.jpg',\n",
       " 'images\\\\10791.jpg',\n",
       " 'images\\\\10792.jpg',\n",
       " 'images\\\\10793.jpg',\n",
       " 'images\\\\10794.jpg',\n",
       " 'images\\\\10795.jpg',\n",
       " 'images\\\\10796.jpg',\n",
       " 'images\\\\10797.jpg',\n",
       " 'images\\\\10799.jpg',\n",
       " 'images\\\\10800.jpg',\n",
       " 'images\\\\10801.jpg',\n",
       " 'images\\\\10802.jpg',\n",
       " 'images\\\\10803.jpg',\n",
       " 'images\\\\10804.jpg',\n",
       " 'images\\\\10805.jpg',\n",
       " 'images\\\\10806.jpg',\n",
       " 'images\\\\10807.jpg',\n",
       " 'images\\\\10809.jpg',\n",
       " 'images\\\\10810.jpg',\n",
       " 'images\\\\10811.jpg',\n",
       " 'images\\\\10812.jpg',\n",
       " 'images\\\\10813.jpg',\n",
       " 'images\\\\10814.jpg',\n",
       " 'images\\\\10815.jpg',\n",
       " 'images\\\\10816.jpg',\n",
       " 'images\\\\10817.jpg',\n",
       " 'images\\\\10818.jpg',\n",
       " 'images\\\\10819.jpg',\n",
       " 'images\\\\10820.jpg',\n",
       " 'images\\\\10821.jpg',\n",
       " 'images\\\\10822.jpg',\n",
       " 'images\\\\10823.jpg',\n",
       " 'images\\\\10824.jpg',\n",
       " 'images\\\\10825.jpg',\n",
       " 'images\\\\10826.jpg',\n",
       " 'images\\\\10827.jpg',\n",
       " 'images\\\\10828.jpg',\n",
       " 'images\\\\10829.jpg',\n",
       " 'images\\\\10830.jpg',\n",
       " 'images\\\\10831.jpg',\n",
       " 'images\\\\10832.jpg',\n",
       " 'images\\\\10833.jpg',\n",
       " 'images\\\\10834.jpg',\n",
       " 'images\\\\10835.jpg',\n",
       " 'images\\\\10836.jpg',\n",
       " 'images\\\\10837.jpg',\n",
       " 'images\\\\10839.jpg',\n",
       " 'images\\\\10840.jpg',\n",
       " 'images\\\\10842.jpg',\n",
       " 'images\\\\10843.jpg',\n",
       " 'images\\\\10844.jpg',\n",
       " 'images\\\\10845.jpg',\n",
       " 'images\\\\10846.jpg',\n",
       " 'images\\\\10848.jpg',\n",
       " 'images\\\\10849.jpg',\n",
       " 'images\\\\10850.jpg',\n",
       " 'images\\\\10851.jpg',\n",
       " 'images\\\\10852.jpg',\n",
       " 'images\\\\10853.jpg',\n",
       " 'images\\\\10854.jpg',\n",
       " 'images\\\\10855.jpg',\n",
       " 'images\\\\10856.jpg',\n",
       " 'images\\\\10857.jpg',\n",
       " 'images\\\\10858.jpg',\n",
       " 'images\\\\10859.jpg',\n",
       " 'images\\\\10861.jpg',\n",
       " 'images\\\\10862.jpg',\n",
       " 'images\\\\10863.jpg',\n",
       " 'images\\\\10864.jpg',\n",
       " 'images\\\\10865.jpg',\n",
       " 'images\\\\10866.jpg',\n",
       " 'images\\\\10867.jpg',\n",
       " 'images\\\\10869.jpg',\n",
       " 'images\\\\10870.jpg',\n",
       " 'images\\\\10871.jpg',\n",
       " 'images\\\\10872.jpg',\n",
       " 'images\\\\10873.jpg',\n",
       " 'images\\\\10874.jpg',\n",
       " 'images\\\\10875.jpg',\n",
       " 'images\\\\10876.jpg',\n",
       " 'images\\\\10877.jpg',\n",
       " 'images\\\\10878.jpg',\n",
       " 'images\\\\10879.jpg',\n",
       " 'images\\\\10880.jpg',\n",
       " 'images\\\\10882.jpg',\n",
       " 'images\\\\10883.jpg',\n",
       " 'images\\\\10884.jpg',\n",
       " 'images\\\\10885.jpg',\n",
       " 'images\\\\10886.jpg',\n",
       " 'images\\\\10987.jpg',\n",
       " 'images\\\\10988.jpg',\n",
       " 'images\\\\10989.jpg',\n",
       " 'images\\\\10990.jpg',\n",
       " 'images\\\\10991.jpg',\n",
       " 'images\\\\10992.jpg',\n",
       " 'images\\\\10993.jpg',\n",
       " 'images\\\\10994.jpg',\n",
       " 'images\\\\10995.jpg',\n",
       " 'images\\\\10996.jpg',\n",
       " 'images\\\\10997.jpg',\n",
       " 'images\\\\10998.jpg',\n",
       " 'images\\\\10999.jpg',\n",
       " 'images\\\\11000.jpg',\n",
       " 'images\\\\11001.jpg',\n",
       " 'images\\\\11002.jpg',\n",
       " 'images\\\\11003.jpg',\n",
       " 'images\\\\11004.jpg',\n",
       " 'images\\\\11005.jpg',\n",
       " 'images\\\\11006.jpg',\n",
       " 'images\\\\11007.jpg',\n",
       " 'images\\\\11008.jpg',\n",
       " 'images\\\\11009.jpg',\n",
       " 'images\\\\11010.jpg',\n",
       " 'images\\\\11011.jpg',\n",
       " 'images\\\\11012.jpg',\n",
       " 'images\\\\11013.jpg',\n",
       " 'images\\\\11014.jpg',\n",
       " 'images\\\\11015.jpg',\n",
       " 'images\\\\11016.jpg',\n",
       " 'images\\\\11017.jpg',\n",
       " 'images\\\\11018.jpg',\n",
       " 'images\\\\11019.jpg',\n",
       " 'images\\\\11020.jpg',\n",
       " 'images\\\\11021.jpg',\n",
       " 'images\\\\11022.jpg',\n",
       " 'images\\\\11023.jpg',\n",
       " 'images\\\\11024.jpg',\n",
       " 'images\\\\11025.jpg',\n",
       " 'images\\\\11026.jpg',\n",
       " 'images\\\\11027.jpg',\n",
       " 'images\\\\11028.jpg',\n",
       " 'images\\\\11029.jpg',\n",
       " 'images\\\\11030.jpg',\n",
       " 'images\\\\11031.jpg',\n",
       " 'images\\\\11032.jpg',\n",
       " 'images\\\\11033.jpg',\n",
       " 'images\\\\11034.jpg',\n",
       " 'images\\\\11035.jpg',\n",
       " 'images\\\\11036.jpg',\n",
       " 'images\\\\11037.jpg',\n",
       " 'images\\\\11038.jpg',\n",
       " 'images\\\\11039.jpg',\n",
       " 'images\\\\11040.jpg',\n",
       " 'images\\\\11041.jpg',\n",
       " 'images\\\\11042.jpg',\n",
       " 'images\\\\11043.jpg',\n",
       " 'images\\\\11044.jpg',\n",
       " 'images\\\\11045.jpg',\n",
       " 'images\\\\11046.jpg',\n",
       " 'images\\\\11047.jpg',\n",
       " 'images\\\\11048.jpg',\n",
       " 'images\\\\11049.jpg',\n",
       " 'images\\\\11050.jpg',\n",
       " 'images\\\\11051.jpg',\n",
       " 'images\\\\11052.jpg',\n",
       " 'images\\\\11053.jpg',\n",
       " 'images\\\\11054.jpg',\n",
       " 'images\\\\11055.jpg',\n",
       " 'images\\\\11056.jpg',\n",
       " 'images\\\\11057.jpg',\n",
       " 'images\\\\11058.jpg',\n",
       " 'images\\\\11059.jpg',\n",
       " 'images\\\\11062.jpg',\n",
       " 'images\\\\11063.jpg',\n",
       " 'images\\\\11064.jpg',\n",
       " 'images\\\\11067.jpg',\n",
       " 'images\\\\11069.jpg',\n",
       " 'images\\\\11070.jpg',\n",
       " 'images\\\\11071.jpg',\n",
       " 'images\\\\11072.jpg',\n",
       " 'images\\\\11073.jpg',\n",
       " 'images\\\\11074.jpg',\n",
       " 'images\\\\11075.jpg',\n",
       " 'images\\\\11076.jpg',\n",
       " 'images\\\\11077.jpg',\n",
       " 'images\\\\11078.jpg',\n",
       " 'images\\\\11079.jpg',\n",
       " 'images\\\\11080.jpg',\n",
       " 'images\\\\11081.jpg',\n",
       " 'images\\\\11082.jpg',\n",
       " 'images\\\\11083.jpg',\n",
       " 'images\\\\11084.jpg',\n",
       " 'images\\\\11085.jpg',\n",
       " 'images\\\\11086.jpg',\n",
       " 'images\\\\11087.jpg',\n",
       " 'images\\\\11088.jpg',\n",
       " 'images\\\\11089.jpg',\n",
       " 'images\\\\11090.jpg',\n",
       " 'images\\\\11091.jpg',\n",
       " 'images\\\\11092.jpg',\n",
       " 'images\\\\11093.jpg',\n",
       " 'images\\\\11094.jpg',\n",
       " 'images\\\\11095.jpg',\n",
       " 'images\\\\11096.jpg',\n",
       " 'images\\\\11097.jpg',\n",
       " 'images\\\\11098.jpg',\n",
       " 'images\\\\11099.jpg',\n",
       " 'images\\\\11100.jpg',\n",
       " 'images\\\\11101.jpg',\n",
       " 'images\\\\11102.jpg',\n",
       " 'images\\\\11103.jpg',\n",
       " 'images\\\\11104.jpg',\n",
       " 'images\\\\11105.jpg',\n",
       " 'images\\\\11106.jpg',\n",
       " 'images\\\\11107.jpg',\n",
       " 'images\\\\11108.jpg',\n",
       " 'images\\\\11109.jpg',\n",
       " 'images\\\\11110.jpg',\n",
       " 'images\\\\11111.jpg',\n",
       " 'images\\\\11112.jpg',\n",
       " 'images\\\\11113.jpg',\n",
       " 'images\\\\11114.jpg',\n",
       " 'images\\\\11115.jpg',\n",
       " 'images\\\\11116.jpg',\n",
       " 'images\\\\11117.jpg',\n",
       " 'images\\\\11118.jpg',\n",
       " 'images\\\\11119.jpg',\n",
       " 'images\\\\11121.jpg',\n",
       " 'images\\\\11123.jpg',\n",
       " 'images\\\\11124.jpg',\n",
       " 'images\\\\11125.jpg',\n",
       " 'images\\\\11126.jpg',\n",
       " 'images\\\\11128.jpg',\n",
       " 'images\\\\11129.jpg',\n",
       " 'images\\\\11130.jpg',\n",
       " 'images\\\\11131.jpg',\n",
       " 'images\\\\11132.jpg',\n",
       " 'images\\\\11133.jpg',\n",
       " 'images\\\\11134.jpg',\n",
       " 'images\\\\11135.jpg',\n",
       " 'images\\\\11136.jpg',\n",
       " 'images\\\\11138.jpg',\n",
       " 'images\\\\11139.jpg',\n",
       " 'images\\\\11140.jpg',\n",
       " 'images\\\\11141.jpg',\n",
       " 'images\\\\11142.jpg',\n",
       " 'images\\\\11143.jpg',\n",
       " 'images\\\\11144.jpg',\n",
       " 'images\\\\11145.jpg',\n",
       " 'images\\\\11146.jpg',\n",
       " 'images\\\\11147.jpg',\n",
       " 'images\\\\11148.jpg',\n",
       " 'images\\\\11150.jpg',\n",
       " 'images\\\\11151.jpg',\n",
       " 'images\\\\11152.jpg',\n",
       " 'images\\\\11153.jpg',\n",
       " 'images\\\\11154.jpg',\n",
       " 'images\\\\11155.jpg',\n",
       " 'images\\\\11156.jpg',\n",
       " 'images\\\\11157.jpg',\n",
       " 'images\\\\11158.jpg',\n",
       " 'images\\\\11159.jpg',\n",
       " 'images\\\\11160.jpg',\n",
       " 'images\\\\11161.jpg',\n",
       " 'images\\\\11162.jpg',\n",
       " 'images\\\\11163.jpg',\n",
       " 'images\\\\11164.jpg',\n",
       " 'images\\\\11165.jpg',\n",
       " 'images\\\\11166.jpg',\n",
       " 'images\\\\11167.jpg',\n",
       " 'images\\\\11168.jpg',\n",
       " 'images\\\\11169.jpg',\n",
       " 'images\\\\11170.jpg',\n",
       " 'images\\\\11171.jpg',\n",
       " 'images\\\\11172.jpg',\n",
       " 'images\\\\11173.jpg',\n",
       " 'images\\\\11174.jpg',\n",
       " 'images\\\\11175.jpg',\n",
       " 'images\\\\11176.jpg',\n",
       " 'images\\\\11178.jpg',\n",
       " 'images\\\\11179.jpg',\n",
       " 'images\\\\11180.jpg',\n",
       " 'images\\\\11188.jpg',\n",
       " 'images\\\\11191.jpg',\n",
       " 'images\\\\11192.jpg',\n",
       " 'images\\\\11193.jpg',\n",
       " 'images\\\\11196.jpg',\n",
       " 'images\\\\11198.jpg',\n",
       " 'images\\\\11199.jpg',\n",
       " 'images\\\\11200.jpg',\n",
       " 'images\\\\11202.jpg',\n",
       " 'images\\\\11203.jpg',\n",
       " 'images\\\\11204.jpg',\n",
       " 'images\\\\11205.jpg',\n",
       " 'images\\\\11207.jpg',\n",
       " 'images\\\\11208.jpg',\n",
       " 'images\\\\11209.jpg',\n",
       " 'images\\\\11210.jpg',\n",
       " 'images\\\\11211.jpg',\n",
       " 'images\\\\11212.jpg',\n",
       " 'images\\\\11213.jpg',\n",
       " 'images\\\\11214.jpg',\n",
       " 'images\\\\11215.jpg',\n",
       " 'images\\\\11216.jpg',\n",
       " 'images\\\\11217.jpg',\n",
       " 'images\\\\11218.jpg',\n",
       " 'images\\\\11220.jpg',\n",
       " 'images\\\\11221.jpg',\n",
       " 'images\\\\11222.jpg',\n",
       " 'images\\\\11223.jpg',\n",
       " 'images\\\\11225.jpg',\n",
       " 'images\\\\11226.jpg',\n",
       " 'images\\\\11228.jpg',\n",
       " 'images\\\\11229.jpg',\n",
       " 'images\\\\11230.jpg',\n",
       " 'images\\\\11231.jpg',\n",
       " 'images\\\\11233.jpg',\n",
       " 'images\\\\11234.jpg',\n",
       " 'images\\\\11235.jpg',\n",
       " 'images\\\\11236.jpg',\n",
       " 'images\\\\11237.jpg',\n",
       " 'images\\\\11239.jpg',\n",
       " 'images\\\\11240.jpg',\n",
       " 'images\\\\11241.jpg',\n",
       " 'images\\\\11242.jpg',\n",
       " 'images\\\\11243.jpg',\n",
       " 'images\\\\11244.jpg',\n",
       " 'images\\\\11245.jpg',\n",
       " 'images\\\\11246.jpg',\n",
       " 'images\\\\11247.jpg',\n",
       " 'images\\\\11248.jpg',\n",
       " 'images\\\\11250.jpg',\n",
       " 'images\\\\11253.jpg',\n",
       " 'images\\\\11254.jpg',\n",
       " 'images\\\\11255.jpg',\n",
       " 'images\\\\11256.jpg',\n",
       " 'images\\\\11257.jpg',\n",
       " 'images\\\\11258.jpg',\n",
       " 'images\\\\11259.jpg',\n",
       " 'images\\\\11260.jpg',\n",
       " 'images\\\\11261.jpg',\n",
       " 'images\\\\11262.jpg',\n",
       " ...]"
      ]
     },
     "execution_count": 7,
     "metadata": {},
     "output_type": "execute_result"
    }
   ],
   "source": [
    "filenames"
   ]
  },
  {
   "cell_type": "code",
   "execution_count": 8,
   "metadata": {},
   "outputs": [
    {
     "name": "stdout",
     "output_type": "stream",
     "text": [
      "1/1 [==============================] - 0s 88ms/step\n"
     ]
    },
    {
     "name": "stderr",
     "output_type": "stream",
     "text": [
      "  8%|▊         | 3547/44441 [05:59<1:25:47,  7.94it/s]"
     ]
    },
    {
     "name": "stdout",
     "output_type": "stream",
     "text": [
      "1/1 [==============================] - 0s 78ms/step\n"
     ]
    },
    {
     "name": "stderr",
     "output_type": "stream",
     "text": [
      "  8%|▊         | 3548/44441 [05:59<1:22:10,  8.29it/s]"
     ]
    },
    {
     "name": "stdout",
     "output_type": "stream",
     "text": [
      "1/1 [==============================] - 0s 78ms/step\n"
     ]
    },
    {
     "name": "stderr",
     "output_type": "stream",
     "text": [
      "  8%|▊         | 3549/44441 [05:59<1:19:05,  8.62it/s]"
     ]
    },
    {
     "name": "stdout",
     "output_type": "stream",
     "text": [
      "1/1 [==============================] - 0s 78ms/step\n"
     ]
    },
    {
     "name": "stderr",
     "output_type": "stream",
     "text": [
      "  8%|▊         | 3550/44441 [05:59<1:17:08,  8.83it/s]"
     ]
    },
    {
     "name": "stdout",
     "output_type": "stream",
     "text": [
      "1/1 [==============================] - 0s 79ms/step\n"
     ]
    },
    {
     "name": "stderr",
     "output_type": "stream",
     "text": [
      "  8%|▊         | 3551/44441 [05:59<1:15:32,  9.02it/s]"
     ]
    },
    {
     "name": "stdout",
     "output_type": "stream",
     "text": [
      "1/1 [==============================] - 0s 76ms/step\n"
     ]
    },
    {
     "name": "stderr",
     "output_type": "stream",
     "text": [
      "  8%|▊         | 3552/44441 [05:59<1:14:10,  9.19it/s]"
     ]
    },
    {
     "name": "stdout",
     "output_type": "stream",
     "text": [
      "1/1 [==============================] - 0s 77ms/step\n"
     ]
    },
    {
     "name": "stderr",
     "output_type": "stream",
     "text": [
      "  8%|▊         | 3553/44441 [06:00<1:13:07,  9.32it/s]"
     ]
    },
    {
     "name": "stdout",
     "output_type": "stream",
     "text": [
      "1/1 [==============================] - 0s 77ms/step\n"
     ]
    },
    {
     "name": "stderr",
     "output_type": "stream",
     "text": [
      "  8%|▊         | 3554/44441 [06:00<1:12:27,  9.40it/s]"
     ]
    },
    {
     "name": "stdout",
     "output_type": "stream",
     "text": [
      "1/1 [==============================] - 0s 79ms/step\n"
     ]
    },
    {
     "name": "stderr",
     "output_type": "stream",
     "text": [
      "  8%|▊         | 3555/44441 [06:00<1:12:35,  9.39it/s]"
     ]
    },
    {
     "name": "stdout",
     "output_type": "stream",
     "text": [
      "1/1 [==============================] - 0s 79ms/step\n"
     ]
    },
    {
     "name": "stderr",
     "output_type": "stream",
     "text": [
      "  8%|▊         | 3556/44441 [06:00<1:12:41,  9.37it/s]"
     ]
    },
    {
     "name": "stdout",
     "output_type": "stream",
     "text": [
      "1/1 [==============================] - 0s 78ms/step\n"
     ]
    },
    {
     "name": "stderr",
     "output_type": "stream",
     "text": [
      "  8%|▊         | 3557/44441 [06:00<1:12:32,  9.39it/s]"
     ]
    },
    {
     "name": "stdout",
     "output_type": "stream",
     "text": [
      "1/1 [==============================] - 0s 77ms/step\n"
     ]
    },
    {
     "name": "stderr",
     "output_type": "stream",
     "text": [
      "  8%|▊         | 3558/44441 [06:00<1:12:02,  9.46it/s]"
     ]
    },
    {
     "name": "stdout",
     "output_type": "stream",
     "text": [
      "1/1 [==============================] - 0s 76ms/step\n"
     ]
    },
    {
     "name": "stderr",
     "output_type": "stream",
     "text": [
      "  8%|▊         | 3559/44441 [06:00<1:11:16,  9.56it/s]"
     ]
    },
    {
     "name": "stdout",
     "output_type": "stream",
     "text": [
      "1/1 [==============================] - 0s 78ms/step\n"
     ]
    },
    {
     "name": "stderr",
     "output_type": "stream",
     "text": [
      "  8%|▊         | 3560/44441 [06:00<1:11:21,  9.55it/s]"
     ]
    },
    {
     "name": "stdout",
     "output_type": "stream",
     "text": [
      "1/1 [==============================] - 0s 86ms/step\n"
     ]
    },
    {
     "name": "stderr",
     "output_type": "stream",
     "text": [
      "  8%|▊         | 3561/44441 [06:00<1:13:14,  9.30it/s]"
     ]
    },
    {
     "name": "stdout",
     "output_type": "stream",
     "text": [
      "1/1 [==============================] - 0s 76ms/step\n"
     ]
    },
    {
     "name": "stderr",
     "output_type": "stream",
     "text": [
      "  8%|▊         | 3562/44441 [06:01<1:12:33,  9.39it/s]"
     ]
    },
    {
     "name": "stdout",
     "output_type": "stream",
     "text": [
      "1/1 [==============================] - 0s 78ms/step\n"
     ]
    },
    {
     "name": "stderr",
     "output_type": "stream",
     "text": [
      "  8%|▊         | 3563/44441 [06:01<1:12:14,  9.43it/s]"
     ]
    },
    {
     "name": "stdout",
     "output_type": "stream",
     "text": [
      "1/1 [==============================] - 0s 83ms/step\n"
     ]
    },
    {
     "name": "stderr",
     "output_type": "stream",
     "text": [
      "  8%|▊         | 3564/44441 [06:01<1:12:50,  9.35it/s]"
     ]
    },
    {
     "name": "stdout",
     "output_type": "stream",
     "text": [
      "1/1 [==============================] - 0s 76ms/step\n"
     ]
    },
    {
     "name": "stderr",
     "output_type": "stream",
     "text": [
      "  8%|▊         | 3565/44441 [06:01<1:13:03,  9.32it/s]"
     ]
    },
    {
     "name": "stdout",
     "output_type": "stream",
     "text": [
      "1/1 [==============================] - 0s 76ms/step\n"
     ]
    },
    {
     "name": "stderr",
     "output_type": "stream",
     "text": [
      "  8%|▊         | 3566/44441 [06:01<1:12:07,  9.45it/s]"
     ]
    },
    {
     "name": "stdout",
     "output_type": "stream",
     "text": [
      "1/1 [==============================] - 0s 79ms/step\n"
     ]
    },
    {
     "name": "stderr",
     "output_type": "stream",
     "text": [
      "  8%|▊         | 3567/44441 [06:01<1:12:08,  9.44it/s]"
     ]
    },
    {
     "name": "stdout",
     "output_type": "stream",
     "text": [
      "1/1 [==============================] - 0s 78ms/step\n"
     ]
    },
    {
     "name": "stderr",
     "output_type": "stream",
     "text": [
      "  8%|▊         | 3568/44441 [06:01<1:12:01,  9.46it/s]"
     ]
    },
    {
     "name": "stdout",
     "output_type": "stream",
     "text": [
      "1/1 [==============================] - 0s 76ms/step\n"
     ]
    },
    {
     "name": "stderr",
     "output_type": "stream",
     "text": [
      "  8%|▊         | 3569/44441 [06:01<1:11:27,  9.53it/s]"
     ]
    },
    {
     "name": "stdout",
     "output_type": "stream",
     "text": [
      "1/1 [==============================] - 0s 79ms/step\n"
     ]
    },
    {
     "name": "stderr",
     "output_type": "stream",
     "text": [
      "  8%|▊         | 3570/44441 [06:01<1:11:41,  9.50it/s]"
     ]
    },
    {
     "name": "stdout",
     "output_type": "stream",
     "text": [
      "1/1 [==============================] - 0s 74ms/step\n"
     ]
    },
    {
     "name": "stderr",
     "output_type": "stream",
     "text": [
      "  8%|▊         | 3571/44441 [06:01<1:11:14,  9.56it/s]"
     ]
    },
    {
     "name": "stdout",
     "output_type": "stream",
     "text": [
      "1/1 [==============================] - 0s 77ms/step\n"
     ]
    },
    {
     "name": "stderr",
     "output_type": "stream",
     "text": [
      "  8%|▊         | 3572/44441 [06:02<1:11:31,  9.52it/s]"
     ]
    },
    {
     "name": "stdout",
     "output_type": "stream",
     "text": [
      "1/1 [==============================] - 0s 77ms/step\n"
     ]
    },
    {
     "name": "stderr",
     "output_type": "stream",
     "text": [
      "  8%|▊         | 3573/44441 [06:02<1:11:06,  9.58it/s]"
     ]
    },
    {
     "name": "stdout",
     "output_type": "stream",
     "text": [
      "1/1 [==============================] - 0s 77ms/step\n"
     ]
    },
    {
     "name": "stderr",
     "output_type": "stream",
     "text": [
      "  8%|▊         | 3574/44441 [06:02<1:11:01,  9.59it/s]"
     ]
    },
    {
     "name": "stdout",
     "output_type": "stream",
     "text": [
      "1/1 [==============================] - 0s 75ms/step\n"
     ]
    },
    {
     "name": "stderr",
     "output_type": "stream",
     "text": [
      "  8%|▊         | 3575/44441 [06:02<1:11:28,  9.53it/s]"
     ]
    },
    {
     "name": "stdout",
     "output_type": "stream",
     "text": [
      "1/1 [==============================] - 0s 77ms/step\n"
     ]
    },
    {
     "name": "stderr",
     "output_type": "stream",
     "text": [
      "  8%|▊         | 3576/44441 [06:02<1:11:16,  9.56it/s]"
     ]
    },
    {
     "name": "stdout",
     "output_type": "stream",
     "text": [
      "1/1 [==============================] - 0s 77ms/step\n"
     ]
    },
    {
     "name": "stderr",
     "output_type": "stream",
     "text": [
      "  8%|▊         | 3577/44441 [06:02<1:10:56,  9.60it/s]"
     ]
    },
    {
     "name": "stdout",
     "output_type": "stream",
     "text": [
      "1/1 [==============================] - 0s 76ms/step\n"
     ]
    },
    {
     "name": "stderr",
     "output_type": "stream",
     "text": [
      "  8%|▊         | 3578/44441 [06:02<1:10:41,  9.63it/s]"
     ]
    },
    {
     "name": "stdout",
     "output_type": "stream",
     "text": [
      "1/1 [==============================] - 0s 76ms/step\n"
     ]
    },
    {
     "name": "stderr",
     "output_type": "stream",
     "text": [
      "  8%|▊         | 3579/44441 [06:02<1:10:34,  9.65it/s]"
     ]
    },
    {
     "name": "stdout",
     "output_type": "stream",
     "text": [
      "1/1 [==============================] - 0s 76ms/step\n"
     ]
    },
    {
     "name": "stderr",
     "output_type": "stream",
     "text": [
      "  8%|▊         | 3580/44441 [06:02<1:10:26,  9.67it/s]"
     ]
    },
    {
     "name": "stdout",
     "output_type": "stream",
     "text": [
      "1/1 [==============================] - 0s 72ms/step\n",
      "1/1 [==============================] - 0s 72ms/step\n"
     ]
    },
    {
     "name": "stderr",
     "output_type": "stream",
     "text": [
      "  8%|▊         | 3582/44441 [06:03<1:09:14,  9.84it/s]"
     ]
    },
    {
     "name": "stdout",
     "output_type": "stream",
     "text": [
      "1/1 [==============================] - 0s 75ms/step\n"
     ]
    },
    {
     "name": "stderr",
     "output_type": "stream",
     "text": [
      "  8%|▊         | 3583/44441 [06:03<1:09:14,  9.84it/s]"
     ]
    },
    {
     "name": "stdout",
     "output_type": "stream",
     "text": [
      "1/1 [==============================] - 0s 76ms/step\n"
     ]
    },
    {
     "name": "stderr",
     "output_type": "stream",
     "text": [
      "  8%|▊         | 3584/44441 [06:03<1:09:57,  9.73it/s]"
     ]
    },
    {
     "name": "stdout",
     "output_type": "stream",
     "text": [
      "1/1 [==============================] - 0s 75ms/step\n"
     ]
    },
    {
     "name": "stderr",
     "output_type": "stream",
     "text": [
      "  8%|▊         | 3585/44441 [06:03<1:09:55,  9.74it/s]"
     ]
    },
    {
     "name": "stdout",
     "output_type": "stream",
     "text": [
      "1/1 [==============================] - 0s 80ms/step\n"
     ]
    },
    {
     "name": "stderr",
     "output_type": "stream",
     "text": [
      "  8%|▊         | 3586/44441 [06:03<1:10:37,  9.64it/s]"
     ]
    },
    {
     "name": "stdout",
     "output_type": "stream",
     "text": [
      "1/1 [==============================] - 0s 75ms/step\n"
     ]
    },
    {
     "name": "stderr",
     "output_type": "stream",
     "text": [
      "  8%|▊         | 3587/44441 [06:03<1:10:18,  9.68it/s]"
     ]
    },
    {
     "name": "stdout",
     "output_type": "stream",
     "text": [
      "1/1 [==============================] - 0s 76ms/step\n"
     ]
    },
    {
     "name": "stderr",
     "output_type": "stream",
     "text": [
      "  8%|▊         | 3588/44441 [06:03<1:10:19,  9.68it/s]"
     ]
    },
    {
     "name": "stdout",
     "output_type": "stream",
     "text": [
      "1/1 [==============================] - 0s 77ms/step\n"
     ]
    },
    {
     "name": "stderr",
     "output_type": "stream",
     "text": [
      "  8%|▊         | 3589/44441 [06:03<1:10:15,  9.69it/s]"
     ]
    },
    {
     "name": "stdout",
     "output_type": "stream",
     "text": [
      "1/1 [==============================] - 0s 79ms/step\n"
     ]
    },
    {
     "name": "stderr",
     "output_type": "stream",
     "text": [
      "  8%|▊         | 3590/44441 [06:03<1:11:13,  9.56it/s]"
     ]
    },
    {
     "name": "stdout",
     "output_type": "stream",
     "text": [
      "1/1 [==============================] - 0s 75ms/step\n"
     ]
    },
    {
     "name": "stderr",
     "output_type": "stream",
     "text": [
      "  8%|▊         | 3591/44441 [06:04<1:10:41,  9.63it/s]"
     ]
    },
    {
     "name": "stdout",
     "output_type": "stream",
     "text": [
      "1/1 [==============================] - 0s 75ms/step\n"
     ]
    },
    {
     "name": "stderr",
     "output_type": "stream",
     "text": [
      "  8%|▊         | 3592/44441 [06:04<1:10:17,  9.69it/s]"
     ]
    },
    {
     "name": "stdout",
     "output_type": "stream",
     "text": [
      "1/1 [==============================] - 0s 76ms/step\n"
     ]
    },
    {
     "name": "stderr",
     "output_type": "stream",
     "text": [
      "  8%|▊         | 3593/44441 [06:04<1:09:58,  9.73it/s]"
     ]
    },
    {
     "name": "stdout",
     "output_type": "stream",
     "text": [
      "1/1 [==============================] - 0s 76ms/step\n"
     ]
    },
    {
     "name": "stderr",
     "output_type": "stream",
     "text": [
      "  8%|▊         | 3594/44441 [06:04<1:10:42,  9.63it/s]"
     ]
    },
    {
     "name": "stdout",
     "output_type": "stream",
     "text": [
      "1/1 [==============================] - 0s 77ms/step\n"
     ]
    },
    {
     "name": "stderr",
     "output_type": "stream",
     "text": [
      "  8%|▊         | 3595/44441 [06:04<1:10:30,  9.65it/s]"
     ]
    },
    {
     "name": "stdout",
     "output_type": "stream",
     "text": [
      "1/1 [==============================] - 0s 75ms/step\n"
     ]
    },
    {
     "name": "stderr",
     "output_type": "stream",
     "text": [
      "  8%|▊         | 3596/44441 [06:04<1:10:23,  9.67it/s]"
     ]
    },
    {
     "name": "stdout",
     "output_type": "stream",
     "text": [
      "1/1 [==============================] - 0s 76ms/step\n"
     ]
    },
    {
     "name": "stderr",
     "output_type": "stream",
     "text": [
      "  8%|▊         | 3597/44441 [06:04<1:10:15,  9.69it/s]"
     ]
    },
    {
     "name": "stdout",
     "output_type": "stream",
     "text": [
      "1/1 [==============================] - 0s 75ms/step\n"
     ]
    },
    {
     "name": "stderr",
     "output_type": "stream",
     "text": [
      "  8%|▊         | 3598/44441 [06:04<1:09:55,  9.73it/s]"
     ]
    },
    {
     "name": "stdout",
     "output_type": "stream",
     "text": [
      "1/1 [==============================] - 0s 79ms/step\n"
     ]
    },
    {
     "name": "stderr",
     "output_type": "stream",
     "text": [
      "  8%|▊         | 3599/44441 [06:04<1:10:23,  9.67it/s]"
     ]
    },
    {
     "name": "stdout",
     "output_type": "stream",
     "text": [
      "1/1 [==============================] - 0s 76ms/step\n"
     ]
    },
    {
     "name": "stderr",
     "output_type": "stream",
     "text": [
      "  8%|▊         | 3600/44441 [06:04<1:10:06,  9.71it/s]"
     ]
    },
    {
     "name": "stdout",
     "output_type": "stream",
     "text": [
      "1/1 [==============================] - 0s 75ms/step\n"
     ]
    },
    {
     "name": "stderr",
     "output_type": "stream",
     "text": [
      "  8%|▊         | 3601/44441 [06:05<1:10:00,  9.72it/s]"
     ]
    },
    {
     "name": "stdout",
     "output_type": "stream",
     "text": [
      "1/1 [==============================] - 0s 75ms/step\n"
     ]
    },
    {
     "name": "stderr",
     "output_type": "stream",
     "text": [
      "  8%|▊         | 3602/44441 [06:05<1:10:01,  9.72it/s]"
     ]
    },
    {
     "name": "stdout",
     "output_type": "stream",
     "text": [
      "1/1 [==============================] - 0s 75ms/step\n"
     ]
    },
    {
     "name": "stderr",
     "output_type": "stream",
     "text": [
      "  8%|▊         | 3603/44441 [06:05<1:09:50,  9.74it/s]"
     ]
    },
    {
     "name": "stdout",
     "output_type": "stream",
     "text": [
      "1/1 [==============================] - 0s 77ms/step\n"
     ]
    },
    {
     "name": "stderr",
     "output_type": "stream",
     "text": [
      "  8%|▊         | 3604/44441 [06:05<1:10:44,  9.62it/s]"
     ]
    },
    {
     "name": "stdout",
     "output_type": "stream",
     "text": [
      "1/1 [==============================] - 0s 73ms/step\n"
     ]
    },
    {
     "name": "stderr",
     "output_type": "stream",
     "text": [
      "  8%|▊         | 3605/44441 [06:05<1:10:20,  9.68it/s]"
     ]
    },
    {
     "name": "stdout",
     "output_type": "stream",
     "text": [
      "1/1 [==============================] - 0s 75ms/step\n"
     ]
    },
    {
     "name": "stderr",
     "output_type": "stream",
     "text": [
      "  8%|▊         | 3606/44441 [06:05<1:10:19,  9.68it/s]"
     ]
    },
    {
     "name": "stdout",
     "output_type": "stream",
     "text": [
      "1/1 [==============================] - 0s 76ms/step\n"
     ]
    },
    {
     "name": "stderr",
     "output_type": "stream",
     "text": [
      "  8%|▊         | 3607/44441 [06:05<1:10:18,  9.68it/s]"
     ]
    },
    {
     "name": "stdout",
     "output_type": "stream",
     "text": [
      "1/1 [==============================] - 0s 75ms/step\n"
     ]
    },
    {
     "name": "stderr",
     "output_type": "stream",
     "text": [
      "  8%|▊         | 3608/44441 [06:05<1:10:11,  9.70it/s]"
     ]
    },
    {
     "name": "stdout",
     "output_type": "stream",
     "text": [
      "1/1 [==============================] - 0s 75ms/step\n"
     ]
    },
    {
     "name": "stderr",
     "output_type": "stream",
     "text": [
      "  8%|▊         | 3609/44441 [06:05<1:09:57,  9.73it/s]"
     ]
    },
    {
     "name": "stdout",
     "output_type": "stream",
     "text": [
      "1/1 [==============================] - 0s 76ms/step\n",
      "1/1 [==============================] - 0s 74ms/step\n"
     ]
    },
    {
     "name": "stderr",
     "output_type": "stream",
     "text": [
      "  8%|▊         | 3611/44441 [06:06<1:09:00,  9.86it/s]"
     ]
    },
    {
     "name": "stdout",
     "output_type": "stream",
     "text": [
      "1/1 [==============================] - 0s 75ms/step\n"
     ]
    },
    {
     "name": "stderr",
     "output_type": "stream",
     "text": [
      "  8%|▊         | 3612/44441 [06:06<1:08:57,  9.87it/s]"
     ]
    },
    {
     "name": "stdout",
     "output_type": "stream",
     "text": [
      "1/1 [==============================] - 0s 77ms/step\n"
     ]
    },
    {
     "name": "stderr",
     "output_type": "stream",
     "text": [
      "  8%|▊         | 3613/44441 [06:06<1:09:57,  9.73it/s]"
     ]
    },
    {
     "name": "stdout",
     "output_type": "stream",
     "text": [
      "1/1 [==============================] - 0s 78ms/step\n"
     ]
    },
    {
     "name": "stderr",
     "output_type": "stream",
     "text": [
      "  8%|▊         | 3614/44441 [06:06<1:10:21,  9.67it/s]"
     ]
    },
    {
     "name": "stdout",
     "output_type": "stream",
     "text": [
      "1/1 [==============================] - 0s 77ms/step\n"
     ]
    },
    {
     "name": "stderr",
     "output_type": "stream",
     "text": [
      "  8%|▊         | 3615/44441 [06:06<1:10:28,  9.65it/s]"
     ]
    },
    {
     "name": "stdout",
     "output_type": "stream",
     "text": [
      "1/1 [==============================] - 0s 75ms/step\n"
     ]
    },
    {
     "name": "stderr",
     "output_type": "stream",
     "text": [
      "  8%|▊         | 3616/44441 [06:06<1:09:58,  9.72it/s]"
     ]
    },
    {
     "name": "stdout",
     "output_type": "stream",
     "text": [
      "1/1 [==============================] - 0s 74ms/step\n"
     ]
    },
    {
     "name": "stderr",
     "output_type": "stream",
     "text": [
      "  8%|▊         | 3617/44441 [06:06<1:09:48,  9.75it/s]"
     ]
    },
    {
     "name": "stdout",
     "output_type": "stream",
     "text": [
      "1/1 [==============================] - 0s 78ms/step\n"
     ]
    },
    {
     "name": "stderr",
     "output_type": "stream",
     "text": [
      "  8%|▊         | 3618/44441 [06:06<1:10:12,  9.69it/s]"
     ]
    },
    {
     "name": "stdout",
     "output_type": "stream",
     "text": [
      "1/1 [==============================] - 0s 76ms/step\n"
     ]
    },
    {
     "name": "stderr",
     "output_type": "stream",
     "text": [
      "  8%|▊         | 3619/44441 [06:06<1:10:10,  9.70it/s]"
     ]
    },
    {
     "name": "stdout",
     "output_type": "stream",
     "text": [
      "1/1 [==============================] - 0s 72ms/step\n",
      "1/1 [==============================] - 0s 74ms/step\n"
     ]
    },
    {
     "name": "stderr",
     "output_type": "stream",
     "text": [
      "  8%|▊         | 3621/44441 [06:07<1:08:58,  9.86it/s]"
     ]
    },
    {
     "name": "stdout",
     "output_type": "stream",
     "text": [
      "1/1 [==============================] - 0s 77ms/step\n"
     ]
    },
    {
     "name": "stderr",
     "output_type": "stream",
     "text": [
      "  8%|▊         | 3622/44441 [06:07<1:09:14,  9.83it/s]"
     ]
    },
    {
     "name": "stdout",
     "output_type": "stream",
     "text": [
      "1/1 [==============================] - 0s 74ms/step\n"
     ]
    },
    {
     "name": "stderr",
     "output_type": "stream",
     "text": [
      "  8%|▊         | 3623/44441 [06:07<1:09:37,  9.77it/s]"
     ]
    },
    {
     "name": "stdout",
     "output_type": "stream",
     "text": [
      "1/1 [==============================] - 0s 76ms/step\n"
     ]
    },
    {
     "name": "stderr",
     "output_type": "stream",
     "text": [
      "  8%|▊         | 3624/44441 [06:07<1:09:34,  9.78it/s]"
     ]
    },
    {
     "name": "stdout",
     "output_type": "stream",
     "text": [
      "1/1 [==============================] - 0s 77ms/step\n"
     ]
    },
    {
     "name": "stderr",
     "output_type": "stream",
     "text": [
      "  8%|▊         | 3625/44441 [06:07<1:09:51,  9.74it/s]"
     ]
    },
    {
     "name": "stdout",
     "output_type": "stream",
     "text": [
      "1/1 [==============================] - 0s 75ms/step\n"
     ]
    },
    {
     "name": "stderr",
     "output_type": "stream",
     "text": [
      "  8%|▊         | 3626/44441 [06:07<1:10:01,  9.71it/s]"
     ]
    },
    {
     "name": "stdout",
     "output_type": "stream",
     "text": [
      "1/1 [==============================] - 0s 74ms/step\n"
     ]
    },
    {
     "name": "stderr",
     "output_type": "stream",
     "text": [
      "  8%|▊         | 3627/44441 [06:07<1:09:51,  9.74it/s]"
     ]
    },
    {
     "name": "stdout",
     "output_type": "stream",
     "text": [
      "1/1 [==============================] - 0s 78ms/step\n"
     ]
    },
    {
     "name": "stderr",
     "output_type": "stream",
     "text": [
      "  8%|▊         | 3628/44441 [06:07<1:10:10,  9.69it/s]"
     ]
    },
    {
     "name": "stdout",
     "output_type": "stream",
     "text": [
      "1/1 [==============================] - 0s 77ms/step\n"
     ]
    },
    {
     "name": "stderr",
     "output_type": "stream",
     "text": [
      "  8%|▊         | 3629/44441 [06:07<1:10:08,  9.70it/s]"
     ]
    },
    {
     "name": "stdout",
     "output_type": "stream",
     "text": [
      "1/1 [==============================] - 0s 74ms/step\n"
     ]
    },
    {
     "name": "stderr",
     "output_type": "stream",
     "text": [
      "  8%|▊         | 3630/44441 [06:08<1:09:42,  9.76it/s]"
     ]
    },
    {
     "name": "stdout",
     "output_type": "stream",
     "text": [
      "1/1 [==============================] - 0s 74ms/step\n"
     ]
    },
    {
     "name": "stderr",
     "output_type": "stream",
     "text": [
      "  8%|▊         | 3631/44441 [06:08<1:09:28,  9.79it/s]"
     ]
    },
    {
     "name": "stdout",
     "output_type": "stream",
     "text": [
      "1/1 [==============================] - 0s 77ms/step\n"
     ]
    },
    {
     "name": "stderr",
     "output_type": "stream",
     "text": [
      "  8%|▊         | 3632/44441 [06:08<1:09:33,  9.78it/s]"
     ]
    },
    {
     "name": "stdout",
     "output_type": "stream",
     "text": [
      "1/1 [==============================] - 0s 77ms/step\n"
     ]
    },
    {
     "name": "stderr",
     "output_type": "stream",
     "text": [
      "  8%|▊         | 3633/44441 [06:08<1:10:40,  9.62it/s]"
     ]
    },
    {
     "name": "stdout",
     "output_type": "stream",
     "text": [
      "1/1 [==============================] - 0s 76ms/step\n"
     ]
    },
    {
     "name": "stderr",
     "output_type": "stream",
     "text": [
      "  8%|▊         | 3634/44441 [06:08<1:10:29,  9.65it/s]"
     ]
    },
    {
     "name": "stdout",
     "output_type": "stream",
     "text": [
      "1/1 [==============================] - 0s 80ms/step\n"
     ]
    },
    {
     "name": "stderr",
     "output_type": "stream",
     "text": [
      "  8%|▊         | 3635/44441 [06:08<1:11:35,  9.50it/s]"
     ]
    },
    {
     "name": "stdout",
     "output_type": "stream",
     "text": [
      "1/1 [==============================] - 0s 78ms/step\n"
     ]
    },
    {
     "name": "stderr",
     "output_type": "stream",
     "text": [
      "  8%|▊         | 3636/44441 [06:08<1:11:43,  9.48it/s]"
     ]
    },
    {
     "name": "stdout",
     "output_type": "stream",
     "text": [
      "1/1 [==============================] - 0s 76ms/step\n"
     ]
    },
    {
     "name": "stderr",
     "output_type": "stream",
     "text": [
      "  8%|▊         | 3637/44441 [06:08<1:11:37,  9.49it/s]"
     ]
    },
    {
     "name": "stdout",
     "output_type": "stream",
     "text": [
      "1/1 [==============================] - 0s 83ms/step\n"
     ]
    },
    {
     "name": "stderr",
     "output_type": "stream",
     "text": [
      "  8%|▊         | 3638/44441 [06:08<1:12:34,  9.37it/s]"
     ]
    },
    {
     "name": "stdout",
     "output_type": "stream",
     "text": [
      "1/1 [==============================] - 0s 75ms/step\n"
     ]
    },
    {
     "name": "stderr",
     "output_type": "stream",
     "text": [
      "  8%|▊         | 3639/44441 [06:08<1:11:36,  9.50it/s]"
     ]
    },
    {
     "name": "stdout",
     "output_type": "stream",
     "text": [
      "1/1 [==============================] - 0s 72ms/step\n",
      "1/1 [==============================] - 0s 76ms/step\n"
     ]
    },
    {
     "name": "stderr",
     "output_type": "stream",
     "text": [
      "  8%|▊         | 3641/44441 [06:09<1:10:21,  9.66it/s]"
     ]
    },
    {
     "name": "stdout",
     "output_type": "stream",
     "text": [
      "1/1 [==============================] - 0s 78ms/step\n"
     ]
    },
    {
     "name": "stderr",
     "output_type": "stream",
     "text": [
      "  8%|▊         | 3642/44441 [06:09<1:10:36,  9.63it/s]"
     ]
    },
    {
     "name": "stdout",
     "output_type": "stream",
     "text": [
      "1/1 [==============================] - 0s 74ms/step\n"
     ]
    },
    {
     "name": "stderr",
     "output_type": "stream",
     "text": [
      "  8%|▊         | 3643/44441 [06:09<1:11:21,  9.53it/s]"
     ]
    },
    {
     "name": "stdout",
     "output_type": "stream",
     "text": [
      "1/1 [==============================] - 0s 76ms/step\n"
     ]
    },
    {
     "name": "stderr",
     "output_type": "stream",
     "text": [
      "  8%|▊         | 3644/44441 [06:09<1:10:59,  9.58it/s]"
     ]
    },
    {
     "name": "stdout",
     "output_type": "stream",
     "text": [
      "1/1 [==============================] - 0s 78ms/step\n"
     ]
    },
    {
     "name": "stderr",
     "output_type": "stream",
     "text": [
      "  8%|▊         | 3645/44441 [06:09<1:11:29,  9.51it/s]"
     ]
    },
    {
     "name": "stdout",
     "output_type": "stream",
     "text": [
      "1/1 [==============================] - 0s 80ms/step\n"
     ]
    },
    {
     "name": "stderr",
     "output_type": "stream",
     "text": [
      "  8%|▊         | 3646/44441 [06:09<1:11:50,  9.46it/s]"
     ]
    },
    {
     "name": "stdout",
     "output_type": "stream",
     "text": [
      "1/1 [==============================] - 0s 76ms/step\n"
     ]
    },
    {
     "name": "stderr",
     "output_type": "stream",
     "text": [
      "  8%|▊         | 3647/44441 [06:09<1:11:30,  9.51it/s]"
     ]
    },
    {
     "name": "stdout",
     "output_type": "stream",
     "text": [
      "1/1 [==============================] - 0s 81ms/step\n"
     ]
    },
    {
     "name": "stderr",
     "output_type": "stream",
     "text": [
      "  8%|▊         | 3648/44441 [06:09<1:12:16,  9.41it/s]"
     ]
    },
    {
     "name": "stdout",
     "output_type": "stream",
     "text": [
      "1/1 [==============================] - 0s 77ms/step\n"
     ]
    },
    {
     "name": "stderr",
     "output_type": "stream",
     "text": [
      "  8%|▊         | 3649/44441 [06:10<1:12:07,  9.43it/s]"
     ]
    },
    {
     "name": "stdout",
     "output_type": "stream",
     "text": [
      "1/1 [==============================] - 0s 77ms/step\n"
     ]
    },
    {
     "name": "stderr",
     "output_type": "stream",
     "text": [
      "  8%|▊         | 3650/44441 [06:10<1:11:40,  9.49it/s]"
     ]
    },
    {
     "name": "stdout",
     "output_type": "stream",
     "text": [
      "1/1 [==============================] - 0s 76ms/step\n"
     ]
    },
    {
     "name": "stderr",
     "output_type": "stream",
     "text": [
      "  8%|▊         | 3651/44441 [06:10<1:11:26,  9.52it/s]"
     ]
    },
    {
     "name": "stdout",
     "output_type": "stream",
     "text": [
      "1/1 [==============================] - 0s 78ms/step\n"
     ]
    },
    {
     "name": "stderr",
     "output_type": "stream",
     "text": [
      "  8%|▊         | 3652/44441 [06:10<1:12:19,  9.40it/s]"
     ]
    },
    {
     "name": "stdout",
     "output_type": "stream",
     "text": [
      "1/1 [==============================] - 0s 78ms/step\n"
     ]
    },
    {
     "name": "stderr",
     "output_type": "stream",
     "text": [
      "  8%|▊         | 3653/44441 [06:10<1:11:50,  9.46it/s]"
     ]
    },
    {
     "name": "stdout",
     "output_type": "stream",
     "text": [
      "1/1 [==============================] - 0s 76ms/step\n"
     ]
    },
    {
     "name": "stderr",
     "output_type": "stream",
     "text": [
      "  8%|▊         | 3654/44441 [06:10<1:11:29,  9.51it/s]"
     ]
    },
    {
     "name": "stdout",
     "output_type": "stream",
     "text": [
      "1/1 [==============================] - 0s 77ms/step\n"
     ]
    },
    {
     "name": "stderr",
     "output_type": "stream",
     "text": [
      "  8%|▊         | 3655/44441 [06:10<1:11:15,  9.54it/s]"
     ]
    },
    {
     "name": "stdout",
     "output_type": "stream",
     "text": [
      "1/1 [==============================] - 0s 75ms/step\n"
     ]
    },
    {
     "name": "stderr",
     "output_type": "stream",
     "text": [
      "  8%|▊         | 3656/44441 [06:10<1:10:40,  9.62it/s]"
     ]
    },
    {
     "name": "stdout",
     "output_type": "stream",
     "text": [
      "1/1 [==============================] - 0s 77ms/step\n"
     ]
    },
    {
     "name": "stderr",
     "output_type": "stream",
     "text": [
      "  8%|▊         | 3657/44441 [06:10<1:10:40,  9.62it/s]"
     ]
    },
    {
     "name": "stdout",
     "output_type": "stream",
     "text": [
      "1/1 [==============================] - 0s 76ms/step\n"
     ]
    },
    {
     "name": "stderr",
     "output_type": "stream",
     "text": [
      "  8%|▊         | 3658/44441 [06:10<1:10:16,  9.67it/s]"
     ]
    },
    {
     "name": "stdout",
     "output_type": "stream",
     "text": [
      "1/1 [==============================] - 0s 76ms/step\n"
     ]
    },
    {
     "name": "stderr",
     "output_type": "stream",
     "text": [
      "  8%|▊         | 3659/44441 [06:11<1:10:23,  9.66it/s]"
     ]
    },
    {
     "name": "stdout",
     "output_type": "stream",
     "text": [
      "1/1 [==============================] - 0s 77ms/step\n"
     ]
    },
    {
     "name": "stderr",
     "output_type": "stream",
     "text": [
      "  8%|▊         | 3660/44441 [06:11<1:10:35,  9.63it/s]"
     ]
    },
    {
     "name": "stdout",
     "output_type": "stream",
     "text": [
      "1/1 [==============================] - 0s 78ms/step\n"
     ]
    },
    {
     "name": "stderr",
     "output_type": "stream",
     "text": [
      "  8%|▊         | 3661/44441 [06:11<1:10:45,  9.61it/s]"
     ]
    },
    {
     "name": "stdout",
     "output_type": "stream",
     "text": [
      "1/1 [==============================] - 0s 73ms/step\n"
     ]
    },
    {
     "name": "stderr",
     "output_type": "stream",
     "text": [
      "  8%|▊         | 3662/44441 [06:11<1:11:57,  9.45it/s]"
     ]
    },
    {
     "name": "stdout",
     "output_type": "stream",
     "text": [
      "1/1 [==============================] - 0s 76ms/step\n"
     ]
    },
    {
     "name": "stderr",
     "output_type": "stream",
     "text": [
      "  8%|▊         | 3663/44441 [06:11<1:11:22,  9.52it/s]"
     ]
    },
    {
     "name": "stdout",
     "output_type": "stream",
     "text": [
      "1/1 [==============================] - 0s 87ms/step\n"
     ]
    },
    {
     "name": "stderr",
     "output_type": "stream",
     "text": [
      "  8%|▊         | 3664/44441 [06:11<1:13:12,  9.28it/s]"
     ]
    },
    {
     "name": "stdout",
     "output_type": "stream",
     "text": [
      "1/1 [==============================] - 0s 81ms/step\n"
     ]
    },
    {
     "name": "stderr",
     "output_type": "stream",
     "text": [
      "  8%|▊         | 3665/44441 [06:11<1:12:57,  9.31it/s]"
     ]
    },
    {
     "name": "stdout",
     "output_type": "stream",
     "text": [
      "1/1 [==============================] - 0s 76ms/step\n"
     ]
    },
    {
     "name": "stderr",
     "output_type": "stream",
     "text": [
      "  8%|▊         | 3666/44441 [06:11<1:12:11,  9.41it/s]"
     ]
    },
    {
     "name": "stdout",
     "output_type": "stream",
     "text": [
      "1/1 [==============================] - 0s 80ms/step\n"
     ]
    },
    {
     "name": "stderr",
     "output_type": "stream",
     "text": [
      "  8%|▊         | 3667/44441 [06:11<1:12:26,  9.38it/s]"
     ]
    },
    {
     "name": "stdout",
     "output_type": "stream",
     "text": [
      "1/1 [==============================] - 0s 77ms/step\n"
     ]
    },
    {
     "name": "stderr",
     "output_type": "stream",
     "text": [
      "  8%|▊         | 3668/44441 [06:12<1:11:48,  9.46it/s]"
     ]
    },
    {
     "name": "stdout",
     "output_type": "stream",
     "text": [
      "1/1 [==============================] - 0s 75ms/step\n"
     ]
    },
    {
     "name": "stderr",
     "output_type": "stream",
     "text": [
      "  8%|▊         | 3669/44441 [06:12<1:11:44,  9.47it/s]"
     ]
    },
    {
     "name": "stdout",
     "output_type": "stream",
     "text": [
      "1/1 [==============================] - 0s 76ms/step\n"
     ]
    },
    {
     "name": "stderr",
     "output_type": "stream",
     "text": [
      "  8%|▊         | 3670/44441 [06:12<1:11:22,  9.52it/s]"
     ]
    },
    {
     "name": "stdout",
     "output_type": "stream",
     "text": [
      "1/1 [==============================] - 0s 81ms/step\n"
     ]
    },
    {
     "name": "stderr",
     "output_type": "stream",
     "text": [
      "  8%|▊         | 3671/44441 [06:12<1:11:58,  9.44it/s]"
     ]
    },
    {
     "name": "stdout",
     "output_type": "stream",
     "text": [
      "1/1 [==============================] - 0s 76ms/step\n"
     ]
    },
    {
     "name": "stderr",
     "output_type": "stream",
     "text": [
      "  8%|▊         | 3672/44441 [06:12<1:12:14,  9.41it/s]"
     ]
    },
    {
     "name": "stdout",
     "output_type": "stream",
     "text": [
      "1/1 [==============================] - 0s 76ms/step\n"
     ]
    },
    {
     "name": "stderr",
     "output_type": "stream",
     "text": [
      "  8%|▊         | 3673/44441 [06:12<1:11:37,  9.49it/s]"
     ]
    },
    {
     "name": "stdout",
     "output_type": "stream",
     "text": [
      "1/1 [==============================] - 0s 76ms/step\n"
     ]
    },
    {
     "name": "stderr",
     "output_type": "stream",
     "text": [
      "  8%|▊         | 3674/44441 [06:12<1:10:43,  9.61it/s]"
     ]
    },
    {
     "name": "stdout",
     "output_type": "stream",
     "text": [
      "1/1 [==============================] - 0s 76ms/step\n"
     ]
    },
    {
     "name": "stderr",
     "output_type": "stream",
     "text": [
      "  8%|▊         | 3675/44441 [06:12<1:10:29,  9.64it/s]"
     ]
    },
    {
     "name": "stdout",
     "output_type": "stream",
     "text": [
      "1/1 [==============================] - 0s 73ms/step\n"
     ]
    },
    {
     "name": "stderr",
     "output_type": "stream",
     "text": [
      "  8%|▊         | 3676/44441 [06:12<1:09:56,  9.72it/s]"
     ]
    },
    {
     "name": "stdout",
     "output_type": "stream",
     "text": [
      "1/1 [==============================] - 0s 77ms/step\n"
     ]
    },
    {
     "name": "stderr",
     "output_type": "stream",
     "text": [
      "  8%|▊         | 3677/44441 [06:12<1:09:56,  9.71it/s]"
     ]
    },
    {
     "name": "stdout",
     "output_type": "stream",
     "text": [
      "1/1 [==============================] - 0s 76ms/step\n"
     ]
    },
    {
     "name": "stderr",
     "output_type": "stream",
     "text": [
      "  8%|▊         | 3678/44441 [06:13<1:09:57,  9.71it/s]"
     ]
    },
    {
     "name": "stdout",
     "output_type": "stream",
     "text": [
      "1/1 [==============================] - 0s 76ms/step\n"
     ]
    },
    {
     "name": "stderr",
     "output_type": "stream",
     "text": [
      "  8%|▊         | 3679/44441 [06:13<1:09:57,  9.71it/s]"
     ]
    },
    {
     "name": "stdout",
     "output_type": "stream",
     "text": [
      "1/1 [==============================] - 0s 74ms/step\n",
      "1/1 [==============================] - 0s 74ms/step\n"
     ]
    },
    {
     "name": "stderr",
     "output_type": "stream",
     "text": [
      "  8%|▊         | 3681/44441 [06:13<1:09:10,  9.82it/s]"
     ]
    },
    {
     "name": "stdout",
     "output_type": "stream",
     "text": [
      "1/1 [==============================] - 0s 77ms/step\n"
     ]
    },
    {
     "name": "stderr",
     "output_type": "stream",
     "text": [
      "  8%|▊         | 3682/44441 [06:13<1:09:56,  9.71it/s]"
     ]
    },
    {
     "name": "stdout",
     "output_type": "stream",
     "text": [
      "1/1 [==============================] - 0s 77ms/step\n"
     ]
    },
    {
     "name": "stderr",
     "output_type": "stream",
     "text": [
      "  8%|▊         | 3683/44441 [06:13<1:09:56,  9.71it/s]"
     ]
    },
    {
     "name": "stdout",
     "output_type": "stream",
     "text": [
      "1/1 [==============================] - 0s 78ms/step\n"
     ]
    },
    {
     "name": "stderr",
     "output_type": "stream",
     "text": [
      "  8%|▊         | 3684/44441 [06:13<1:10:08,  9.69it/s]"
     ]
    },
    {
     "name": "stdout",
     "output_type": "stream",
     "text": [
      "1/1 [==============================] - 0s 75ms/step\n"
     ]
    },
    {
     "name": "stderr",
     "output_type": "stream",
     "text": [
      "  8%|▊         | 3685/44441 [06:13<1:09:53,  9.72it/s]"
     ]
    },
    {
     "name": "stdout",
     "output_type": "stream",
     "text": [
      "1/1 [==============================] - 0s 78ms/step\n"
     ]
    },
    {
     "name": "stderr",
     "output_type": "stream",
     "text": [
      "  8%|▊         | 3686/44441 [06:13<1:10:41,  9.61it/s]"
     ]
    },
    {
     "name": "stdout",
     "output_type": "stream",
     "text": [
      "1/1 [==============================] - 0s 75ms/step\n"
     ]
    },
    {
     "name": "stderr",
     "output_type": "stream",
     "text": [
      "  8%|▊         | 3687/44441 [06:13<1:10:00,  9.70it/s]"
     ]
    },
    {
     "name": "stdout",
     "output_type": "stream",
     "text": [
      "1/1 [==============================] - 0s 75ms/step\n"
     ]
    },
    {
     "name": "stderr",
     "output_type": "stream",
     "text": [
      "  8%|▊         | 3688/44441 [06:14<1:10:00,  9.70it/s]"
     ]
    },
    {
     "name": "stdout",
     "output_type": "stream",
     "text": [
      "1/1 [==============================] - 0s 76ms/step\n"
     ]
    },
    {
     "name": "stderr",
     "output_type": "stream",
     "text": [
      "  8%|▊         | 3689/44441 [06:14<1:10:10,  9.68it/s]"
     ]
    },
    {
     "name": "stdout",
     "output_type": "stream",
     "text": [
      "1/1 [==============================] - 0s 76ms/step\n"
     ]
    },
    {
     "name": "stderr",
     "output_type": "stream",
     "text": [
      "  8%|▊         | 3690/44441 [06:14<1:10:19,  9.66it/s]"
     ]
    },
    {
     "name": "stdout",
     "output_type": "stream",
     "text": [
      "1/1 [==============================] - 0s 76ms/step\n"
     ]
    },
    {
     "name": "stderr",
     "output_type": "stream",
     "text": [
      "  8%|▊         | 3691/44441 [06:14<1:10:47,  9.59it/s]"
     ]
    },
    {
     "name": "stdout",
     "output_type": "stream",
     "text": [
      "1/1 [==============================] - 0s 75ms/step\n"
     ]
    },
    {
     "name": "stderr",
     "output_type": "stream",
     "text": [
      "  8%|▊         | 3692/44441 [06:14<1:10:32,  9.63it/s]"
     ]
    },
    {
     "name": "stdout",
     "output_type": "stream",
     "text": [
      "1/1 [==============================] - 0s 80ms/step\n"
     ]
    },
    {
     "name": "stderr",
     "output_type": "stream",
     "text": [
      "  8%|▊         | 3693/44441 [06:14<1:11:10,  9.54it/s]"
     ]
    },
    {
     "name": "stdout",
     "output_type": "stream",
     "text": [
      "1/1 [==============================] - 0s 74ms/step\n"
     ]
    },
    {
     "name": "stderr",
     "output_type": "stream",
     "text": [
      "  8%|▊         | 3694/44441 [06:14<1:10:48,  9.59it/s]"
     ]
    },
    {
     "name": "stdout",
     "output_type": "stream",
     "text": [
      "1/1 [==============================] - 0s 75ms/step\n"
     ]
    },
    {
     "name": "stderr",
     "output_type": "stream",
     "text": [
      "  8%|▊         | 3695/44441 [06:14<1:10:36,  9.62it/s]"
     ]
    },
    {
     "name": "stdout",
     "output_type": "stream",
     "text": [
      "1/1 [==============================] - 0s 78ms/step\n"
     ]
    },
    {
     "name": "stderr",
     "output_type": "stream",
     "text": [
      "  8%|▊         | 3696/44441 [06:14<1:11:00,  9.56it/s]"
     ]
    },
    {
     "name": "stdout",
     "output_type": "stream",
     "text": [
      "1/1 [==============================] - 0s 72ms/step\n"
     ]
    },
    {
     "name": "stderr",
     "output_type": "stream",
     "text": [
      "  8%|▊         | 3697/44441 [06:15<1:10:11,  9.67it/s]"
     ]
    },
    {
     "name": "stdout",
     "output_type": "stream",
     "text": [
      "1/1 [==============================] - 0s 76ms/step\n"
     ]
    },
    {
     "name": "stderr",
     "output_type": "stream",
     "text": [
      "  8%|▊         | 3698/44441 [06:15<1:09:46,  9.73it/s]"
     ]
    },
    {
     "name": "stdout",
     "output_type": "stream",
     "text": [
      "1/1 [==============================] - 0s 75ms/step\n"
     ]
    },
    {
     "name": "stderr",
     "output_type": "stream",
     "text": [
      "  8%|▊         | 3699/44441 [06:15<1:10:01,  9.70it/s]"
     ]
    },
    {
     "name": "stdout",
     "output_type": "stream",
     "text": [
      "1/1 [==============================] - 0s 74ms/step\n"
     ]
    },
    {
     "name": "stderr",
     "output_type": "stream",
     "text": [
      "  8%|▊         | 3700/44441 [06:15<1:09:36,  9.76it/s]"
     ]
    },
    {
     "name": "stdout",
     "output_type": "stream",
     "text": [
      "1/1 [==============================] - 0s 77ms/step\n"
     ]
    },
    {
     "name": "stderr",
     "output_type": "stream",
     "text": [
      "  8%|▊         | 3701/44441 [06:15<1:10:34,  9.62it/s]"
     ]
    },
    {
     "name": "stdout",
     "output_type": "stream",
     "text": [
      "1/1 [==============================] - 0s 77ms/step\n"
     ]
    },
    {
     "name": "stderr",
     "output_type": "stream",
     "text": [
      "  8%|▊         | 3702/44441 [06:15<1:10:44,  9.60it/s]"
     ]
    },
    {
     "name": "stdout",
     "output_type": "stream",
     "text": [
      "1/1 [==============================] - 0s 72ms/step\n"
     ]
    },
    {
     "name": "stderr",
     "output_type": "stream",
     "text": [
      "  8%|▊         | 3703/44441 [06:15<1:10:05,  9.69it/s]"
     ]
    },
    {
     "name": "stdout",
     "output_type": "stream",
     "text": [
      "1/1 [==============================] - 0s 75ms/step\n"
     ]
    },
    {
     "name": "stderr",
     "output_type": "stream",
     "text": [
      "  8%|▊         | 3704/44441 [06:15<1:09:38,  9.75it/s]"
     ]
    },
    {
     "name": "stdout",
     "output_type": "stream",
     "text": [
      "1/1 [==============================] - 0s 74ms/step\n"
     ]
    },
    {
     "name": "stderr",
     "output_type": "stream",
     "text": [
      "  8%|▊         | 3705/44441 [06:15<1:09:25,  9.78it/s]"
     ]
    },
    {
     "name": "stdout",
     "output_type": "stream",
     "text": [
      "1/1 [==============================] - 0s 72ms/step\n"
     ]
    },
    {
     "name": "stderr",
     "output_type": "stream",
     "text": [
      "  8%|▊         | 3706/44441 [06:15<1:09:18,  9.79it/s]"
     ]
    },
    {
     "name": "stdout",
     "output_type": "stream",
     "text": [
      "1/1 [==============================] - 0s 76ms/step\n"
     ]
    },
    {
     "name": "stderr",
     "output_type": "stream",
     "text": [
      "  8%|▊         | 3707/44441 [06:16<1:09:45,  9.73it/s]"
     ]
    },
    {
     "name": "stdout",
     "output_type": "stream",
     "text": [
      "1/1 [==============================] - 0s 74ms/step\n"
     ]
    },
    {
     "name": "stderr",
     "output_type": "stream",
     "text": [
      "  8%|▊         | 3708/44441 [06:16<1:09:48,  9.73it/s]"
     ]
    },
    {
     "name": "stdout",
     "output_type": "stream",
     "text": [
      "1/1 [==============================] - 0s 76ms/step\n"
     ]
    },
    {
     "name": "stderr",
     "output_type": "stream",
     "text": [
      "  8%|▊         | 3709/44441 [06:16<1:09:43,  9.74it/s]"
     ]
    },
    {
     "name": "stdout",
     "output_type": "stream",
     "text": [
      "1/1 [==============================] - 0s 81ms/step\n"
     ]
    },
    {
     "name": "stderr",
     "output_type": "stream",
     "text": [
      "  8%|▊         | 3710/44441 [06:16<1:11:24,  9.51it/s]"
     ]
    },
    {
     "name": "stdout",
     "output_type": "stream",
     "text": [
      "1/1 [==============================] - 0s 74ms/step\n"
     ]
    },
    {
     "name": "stderr",
     "output_type": "stream",
     "text": [
      "  8%|▊         | 3711/44441 [06:16<1:11:29,  9.49it/s]"
     ]
    },
    {
     "name": "stdout",
     "output_type": "stream",
     "text": [
      "1/1 [==============================] - 0s 76ms/step\n"
     ]
    },
    {
     "name": "stderr",
     "output_type": "stream",
     "text": [
      "  8%|▊         | 3712/44441 [06:16<1:10:49,  9.59it/s]"
     ]
    },
    {
     "name": "stdout",
     "output_type": "stream",
     "text": [
      "1/1 [==============================] - 0s 78ms/step\n"
     ]
    },
    {
     "name": "stderr",
     "output_type": "stream",
     "text": [
      "  8%|▊         | 3713/44441 [06:16<1:10:59,  9.56it/s]"
     ]
    },
    {
     "name": "stdout",
     "output_type": "stream",
     "text": [
      "1/1 [==============================] - 0s 76ms/step\n"
     ]
    },
    {
     "name": "stderr",
     "output_type": "stream",
     "text": [
      "  8%|▊         | 3714/44441 [06:16<1:10:52,  9.58it/s]"
     ]
    },
    {
     "name": "stdout",
     "output_type": "stream",
     "text": [
      "1/1 [==============================] - 0s 80ms/step\n"
     ]
    },
    {
     "name": "stderr",
     "output_type": "stream",
     "text": [
      "  8%|▊         | 3715/44441 [06:16<1:11:36,  9.48it/s]"
     ]
    },
    {
     "name": "stdout",
     "output_type": "stream",
     "text": [
      "1/1 [==============================] - 0s 74ms/step\n"
     ]
    },
    {
     "name": "stderr",
     "output_type": "stream",
     "text": [
      "  8%|▊         | 3716/44441 [06:16<1:11:05,  9.55it/s]"
     ]
    },
    {
     "name": "stdout",
     "output_type": "stream",
     "text": [
      "1/1 [==============================] - 0s 77ms/step\n"
     ]
    },
    {
     "name": "stderr",
     "output_type": "stream",
     "text": [
      "  8%|▊         | 3717/44441 [06:17<1:10:56,  9.57it/s]"
     ]
    },
    {
     "name": "stdout",
     "output_type": "stream",
     "text": [
      "1/1 [==============================] - 0s 78ms/step\n"
     ]
    },
    {
     "name": "stderr",
     "output_type": "stream",
     "text": [
      "  8%|▊         | 3718/44441 [06:17<1:10:54,  9.57it/s]"
     ]
    },
    {
     "name": "stdout",
     "output_type": "stream",
     "text": [
      "1/1 [==============================] - 0s 78ms/step\n"
     ]
    },
    {
     "name": "stderr",
     "output_type": "stream",
     "text": [
      "  8%|▊         | 3719/44441 [06:17<1:11:17,  9.52it/s]"
     ]
    },
    {
     "name": "stdout",
     "output_type": "stream",
     "text": [
      "1/1 [==============================] - 0s 78ms/step\n"
     ]
    },
    {
     "name": "stderr",
     "output_type": "stream",
     "text": [
      "  8%|▊         | 3720/44441 [06:17<1:11:21,  9.51it/s]"
     ]
    },
    {
     "name": "stdout",
     "output_type": "stream",
     "text": [
      "1/1 [==============================] - 0s 76ms/step\n"
     ]
    },
    {
     "name": "stderr",
     "output_type": "stream",
     "text": [
      "  8%|▊         | 3721/44441 [06:17<1:11:47,  9.45it/s]"
     ]
    },
    {
     "name": "stdout",
     "output_type": "stream",
     "text": [
      "1/1 [==============================] - 0s 81ms/step\n"
     ]
    },
    {
     "name": "stderr",
     "output_type": "stream",
     "text": [
      "  8%|▊         | 3722/44441 [06:17<1:11:57,  9.43it/s]"
     ]
    },
    {
     "name": "stdout",
     "output_type": "stream",
     "text": [
      "1/1 [==============================] - 0s 76ms/step\n"
     ]
    },
    {
     "name": "stderr",
     "output_type": "stream",
     "text": [
      "  8%|▊         | 3723/44441 [06:17<1:11:32,  9.49it/s]"
     ]
    },
    {
     "name": "stdout",
     "output_type": "stream",
     "text": [
      "1/1 [==============================] - 0s 75ms/step\n"
     ]
    },
    {
     "name": "stderr",
     "output_type": "stream",
     "text": [
      "  8%|▊         | 3724/44441 [06:17<1:10:52,  9.58it/s]"
     ]
    },
    {
     "name": "stdout",
     "output_type": "stream",
     "text": [
      "1/1 [==============================] - 0s 75ms/step\n"
     ]
    },
    {
     "name": "stderr",
     "output_type": "stream",
     "text": [
      "  8%|▊         | 3725/44441 [06:17<1:10:32,  9.62it/s]"
     ]
    },
    {
     "name": "stdout",
     "output_type": "stream",
     "text": [
      "1/1 [==============================] - 0s 78ms/step\n"
     ]
    },
    {
     "name": "stderr",
     "output_type": "stream",
     "text": [
      "  8%|▊         | 3726/44441 [06:18<1:10:45,  9.59it/s]"
     ]
    },
    {
     "name": "stdout",
     "output_type": "stream",
     "text": [
      "1/1 [==============================] - 0s 75ms/step\n"
     ]
    },
    {
     "name": "stderr",
     "output_type": "stream",
     "text": [
      "  8%|▊         | 3727/44441 [06:18<1:10:29,  9.63it/s]"
     ]
    },
    {
     "name": "stdout",
     "output_type": "stream",
     "text": [
      "1/1 [==============================] - 0s 81ms/step\n"
     ]
    },
    {
     "name": "stderr",
     "output_type": "stream",
     "text": [
      "  8%|▊         | 3728/44441 [06:18<1:11:20,  9.51it/s]"
     ]
    },
    {
     "name": "stdout",
     "output_type": "stream",
     "text": [
      "1/1 [==============================] - 0s 79ms/step\n"
     ]
    },
    {
     "name": "stderr",
     "output_type": "stream",
     "text": [
      "  8%|▊         | 3729/44441 [06:18<1:11:39,  9.47it/s]"
     ]
    },
    {
     "name": "stdout",
     "output_type": "stream",
     "text": [
      "1/1 [==============================] - 0s 78ms/step\n"
     ]
    },
    {
     "name": "stderr",
     "output_type": "stream",
     "text": [
      "  8%|▊         | 3730/44441 [06:18<1:12:08,  9.41it/s]"
     ]
    },
    {
     "name": "stdout",
     "output_type": "stream",
     "text": [
      "1/1 [==============================] - 0s 79ms/step\n"
     ]
    },
    {
     "name": "stderr",
     "output_type": "stream",
     "text": [
      "  8%|▊         | 3731/44441 [06:18<1:12:13,  9.39it/s]"
     ]
    },
    {
     "name": "stdout",
     "output_type": "stream",
     "text": [
      "1/1 [==============================] - 0s 79ms/step\n"
     ]
    },
    {
     "name": "stderr",
     "output_type": "stream",
     "text": [
      "  8%|▊         | 3732/44441 [06:18<1:12:04,  9.41it/s]"
     ]
    },
    {
     "name": "stdout",
     "output_type": "stream",
     "text": [
      "1/1 [==============================] - 0s 76ms/step\n"
     ]
    },
    {
     "name": "stderr",
     "output_type": "stream",
     "text": [
      "  8%|▊         | 3733/44441 [06:18<1:11:22,  9.50it/s]"
     ]
    },
    {
     "name": "stdout",
     "output_type": "stream",
     "text": [
      "1/1 [==============================] - 0s 82ms/step\n"
     ]
    },
    {
     "name": "stderr",
     "output_type": "stream",
     "text": [
      "  8%|▊         | 3734/44441 [06:18<1:11:56,  9.43it/s]"
     ]
    },
    {
     "name": "stdout",
     "output_type": "stream",
     "text": [
      "1/1 [==============================] - 0s 75ms/step\n"
     ]
    },
    {
     "name": "stderr",
     "output_type": "stream",
     "text": [
      "  8%|▊         | 3735/44441 [06:18<1:11:19,  9.51it/s]"
     ]
    },
    {
     "name": "stdout",
     "output_type": "stream",
     "text": [
      "1/1 [==============================] - 0s 75ms/step\n"
     ]
    },
    {
     "name": "stderr",
     "output_type": "stream",
     "text": [
      "  8%|▊         | 3736/44441 [06:19<1:08:50,  9.85it/s]\n"
     ]
    },
    {
     "ename": "KeyboardInterrupt",
     "evalue": "",
     "output_type": "error",
     "traceback": [
      "\u001b[1;31m---------------------------------------------------------------------------\u001b[0m",
      "\u001b[1;31mKeyboardInterrupt\u001b[0m                         Traceback (most recent call last)",
      "\u001b[1;32md:\\Materi_data-science\\Code\\Fashion_Recommendation\\model.ipynb Cell 10'\u001b[0m in \u001b[0;36m<cell line: 2>\u001b[1;34m()\u001b[0m\n\u001b[0;32m      <a href='vscode-notebook-cell:/d%3A/Materi_data-science/Code/Fashion_Recommendation/model.ipynb#ch0000009?line=0'>1</a>\u001b[0m feature_list \u001b[39m=\u001b[39m []\n\u001b[0;32m      <a href='vscode-notebook-cell:/d%3A/Materi_data-science/Code/Fashion_Recommendation/model.ipynb#ch0000009?line=1'>2</a>\u001b[0m \u001b[39mfor\u001b[39;00m file \u001b[39min\u001b[39;00m tqdm(filenames):\n\u001b[1;32m----> <a href='vscode-notebook-cell:/d%3A/Materi_data-science/Code/Fashion_Recommendation/model.ipynb#ch0000009?line=2'>3</a>\u001b[0m     feature_list\u001b[39m.\u001b[39mappend(extract_features(file,model))\n",
      "\u001b[1;32md:\\Materi_data-science\\Code\\Fashion_Recommendation\\model.ipynb Cell 7'\u001b[0m in \u001b[0;36mextract_features\u001b[1;34m(img_path, model)\u001b[0m\n\u001b[0;32m      <a href='vscode-notebook-cell:/d%3A/Materi_data-science/Code/Fashion_Recommendation/model.ipynb#ch0000006?line=3'>4</a>\u001b[0m expanded_img_array \u001b[39m=\u001b[39m np\u001b[39m.\u001b[39mexpand_dims(img_array,axis\u001b[39m=\u001b[39m\u001b[39m0\u001b[39m)\n\u001b[0;32m      <a href='vscode-notebook-cell:/d%3A/Materi_data-science/Code/Fashion_Recommendation/model.ipynb#ch0000006?line=4'>5</a>\u001b[0m preprocessed_img \u001b[39m=\u001b[39m preprocess_input(expanded_img_array)\n\u001b[1;32m----> <a href='vscode-notebook-cell:/d%3A/Materi_data-science/Code/Fashion_Recommendation/model.ipynb#ch0000006?line=5'>6</a>\u001b[0m result \u001b[39m=\u001b[39m model\u001b[39m.\u001b[39;49mpredict(preprocessed_img)\u001b[39m.\u001b[39mflatten()\n\u001b[0;32m      <a href='vscode-notebook-cell:/d%3A/Materi_data-science/Code/Fashion_Recommendation/model.ipynb#ch0000006?line=6'>7</a>\u001b[0m normalized_result \u001b[39m=\u001b[39m result \u001b[39m/\u001b[39m norm(result)\n\u001b[0;32m      <a href='vscode-notebook-cell:/d%3A/Materi_data-science/Code/Fashion_Recommendation/model.ipynb#ch0000006?line=7'>8</a>\u001b[0m \u001b[39mreturn\u001b[39;00m normalized_result\n",
      "File \u001b[1;32md:\\Materi_data-science\\Code\\Fashion_Recommendation\\env\\lib\\site-packages\\keras\\utils\\traceback_utils.py:64\u001b[0m, in \u001b[0;36mfilter_traceback.<locals>.error_handler\u001b[1;34m(*args, **kwargs)\u001b[0m\n\u001b[0;32m     62\u001b[0m filtered_tb \u001b[39m=\u001b[39m \u001b[39mNone\u001b[39;00m\n\u001b[0;32m     63\u001b[0m \u001b[39mtry\u001b[39;00m:\n\u001b[1;32m---> 64\u001b[0m   \u001b[39mreturn\u001b[39;00m fn(\u001b[39m*\u001b[39margs, \u001b[39m*\u001b[39m\u001b[39m*\u001b[39mkwargs)\n\u001b[0;32m     65\u001b[0m \u001b[39mexcept\u001b[39;00m \u001b[39mException\u001b[39;00m \u001b[39mas\u001b[39;00m e:  \u001b[39m# pylint: disable=broad-except\u001b[39;00m\n\u001b[0;32m     66\u001b[0m   filtered_tb \u001b[39m=\u001b[39m _process_traceback_frames(e\u001b[39m.\u001b[39m__traceback__)\n",
      "File \u001b[1;32md:\\Materi_data-science\\Code\\Fashion_Recommendation\\env\\lib\\site-packages\\keras\\engine\\training.py:2002\u001b[0m, in \u001b[0;36mModel.predict\u001b[1;34m(self, x, batch_size, verbose, steps, callbacks, max_queue_size, workers, use_multiprocessing)\u001b[0m\n\u001b[0;32m   1995\u001b[0m   \u001b[39mexcept\u001b[39;00m \u001b[39mValueError\u001b[39;00m:\n\u001b[0;32m   1996\u001b[0m     warnings\u001b[39m.\u001b[39mwarn(\n\u001b[0;32m   1997\u001b[0m         \u001b[39m'\u001b[39m\u001b[39mUsing Model.predict with MultiWorkerMirroredStrategy or \u001b[39m\u001b[39m'\u001b[39m\n\u001b[0;32m   1998\u001b[0m         \u001b[39m'\u001b[39m\u001b[39mTPUStrategy and AutoShardPolicy.FILE might lead to out-of-order \u001b[39m\u001b[39m'\u001b[39m\n\u001b[0;32m   1999\u001b[0m         \u001b[39m'\u001b[39m\u001b[39mresult. Consider setting it to AutoShardPolicy.DATA.\u001b[39m\u001b[39m'\u001b[39m,\n\u001b[0;32m   2000\u001b[0m         stacklevel\u001b[39m=\u001b[39m\u001b[39m2\u001b[39m)\n\u001b[1;32m-> 2002\u001b[0m data_handler \u001b[39m=\u001b[39m data_adapter\u001b[39m.\u001b[39;49mget_data_handler(\n\u001b[0;32m   2003\u001b[0m     x\u001b[39m=\u001b[39;49mx,\n\u001b[0;32m   2004\u001b[0m     batch_size\u001b[39m=\u001b[39;49mbatch_size,\n\u001b[0;32m   2005\u001b[0m     steps_per_epoch\u001b[39m=\u001b[39;49msteps,\n\u001b[0;32m   2006\u001b[0m     initial_epoch\u001b[39m=\u001b[39;49m\u001b[39m0\u001b[39;49m,\n\u001b[0;32m   2007\u001b[0m     epochs\u001b[39m=\u001b[39;49m\u001b[39m1\u001b[39;49m,\n\u001b[0;32m   2008\u001b[0m     max_queue_size\u001b[39m=\u001b[39;49mmax_queue_size,\n\u001b[0;32m   2009\u001b[0m     workers\u001b[39m=\u001b[39;49mworkers,\n\u001b[0;32m   2010\u001b[0m     use_multiprocessing\u001b[39m=\u001b[39;49muse_multiprocessing,\n\u001b[0;32m   2011\u001b[0m     model\u001b[39m=\u001b[39;49m\u001b[39mself\u001b[39;49m,\n\u001b[0;32m   2012\u001b[0m     steps_per_execution\u001b[39m=\u001b[39;49m\u001b[39mself\u001b[39;49m\u001b[39m.\u001b[39;49m_steps_per_execution)\n\u001b[0;32m   2014\u001b[0m \u001b[39m# Container that configures and calls `tf.keras.Callback`s.\u001b[39;00m\n\u001b[0;32m   2015\u001b[0m \u001b[39mif\u001b[39;00m \u001b[39mnot\u001b[39;00m \u001b[39misinstance\u001b[39m(callbacks, callbacks_module\u001b[39m.\u001b[39mCallbackList):\n",
      "File \u001b[1;32md:\\Materi_data-science\\Code\\Fashion_Recommendation\\env\\lib\\site-packages\\keras\\engine\\data_adapter.py:1401\u001b[0m, in \u001b[0;36mget_data_handler\u001b[1;34m(*args, **kwargs)\u001b[0m\n\u001b[0;32m   1399\u001b[0m \u001b[39mif\u001b[39;00m \u001b[39mgetattr\u001b[39m(kwargs[\u001b[39m\"\u001b[39m\u001b[39mmodel\u001b[39m\u001b[39m\"\u001b[39m], \u001b[39m\"\u001b[39m\u001b[39m_cluster_coordinator\u001b[39m\u001b[39m\"\u001b[39m, \u001b[39mNone\u001b[39;00m):\n\u001b[0;32m   1400\u001b[0m   \u001b[39mreturn\u001b[39;00m _ClusterCoordinatorDataHandler(\u001b[39m*\u001b[39margs, \u001b[39m*\u001b[39m\u001b[39m*\u001b[39mkwargs)\n\u001b[1;32m-> 1401\u001b[0m \u001b[39mreturn\u001b[39;00m DataHandler(\u001b[39m*\u001b[39margs, \u001b[39m*\u001b[39m\u001b[39m*\u001b[39mkwargs)\n",
      "File \u001b[1;32md:\\Materi_data-science\\Code\\Fashion_Recommendation\\env\\lib\\site-packages\\keras\\engine\\data_adapter.py:1151\u001b[0m, in \u001b[0;36mDataHandler.__init__\u001b[1;34m(self, x, y, sample_weight, batch_size, steps_per_epoch, initial_epoch, epochs, shuffle, class_weight, max_queue_size, workers, use_multiprocessing, model, steps_per_execution, distribute)\u001b[0m\n\u001b[0;32m   1148\u001b[0m   \u001b[39mself\u001b[39m\u001b[39m.\u001b[39m_steps_per_execution \u001b[39m=\u001b[39m steps_per_execution\n\u001b[0;32m   1150\u001b[0m adapter_cls \u001b[39m=\u001b[39m select_data_adapter(x, y)\n\u001b[1;32m-> 1151\u001b[0m \u001b[39mself\u001b[39m\u001b[39m.\u001b[39m_adapter \u001b[39m=\u001b[39m adapter_cls(\n\u001b[0;32m   1152\u001b[0m     x,\n\u001b[0;32m   1153\u001b[0m     y,\n\u001b[0;32m   1154\u001b[0m     batch_size\u001b[39m=\u001b[39;49mbatch_size,\n\u001b[0;32m   1155\u001b[0m     steps\u001b[39m=\u001b[39;49msteps_per_epoch,\n\u001b[0;32m   1156\u001b[0m     epochs\u001b[39m=\u001b[39;49mepochs \u001b[39m-\u001b[39;49m initial_epoch,\n\u001b[0;32m   1157\u001b[0m     sample_weights\u001b[39m=\u001b[39;49msample_weight,\n\u001b[0;32m   1158\u001b[0m     shuffle\u001b[39m=\u001b[39;49mshuffle,\n\u001b[0;32m   1159\u001b[0m     max_queue_size\u001b[39m=\u001b[39;49mmax_queue_size,\n\u001b[0;32m   1160\u001b[0m     workers\u001b[39m=\u001b[39;49mworkers,\n\u001b[0;32m   1161\u001b[0m     use_multiprocessing\u001b[39m=\u001b[39;49muse_multiprocessing,\n\u001b[0;32m   1162\u001b[0m     distribution_strategy\u001b[39m=\u001b[39;49mtf\u001b[39m.\u001b[39;49mdistribute\u001b[39m.\u001b[39;49mget_strategy(),\n\u001b[0;32m   1163\u001b[0m     model\u001b[39m=\u001b[39;49mmodel)\n\u001b[0;32m   1165\u001b[0m strategy \u001b[39m=\u001b[39m tf\u001b[39m.\u001b[39mdistribute\u001b[39m.\u001b[39mget_strategy()\n\u001b[0;32m   1167\u001b[0m \u001b[39mself\u001b[39m\u001b[39m.\u001b[39m_current_step \u001b[39m=\u001b[39m \u001b[39m0\u001b[39m\n",
      "File \u001b[1;32md:\\Materi_data-science\\Code\\Fashion_Recommendation\\env\\lib\\site-packages\\keras\\engine\\data_adapter.py:328\u001b[0m, in \u001b[0;36mTensorLikeDataAdapter.__init__\u001b[1;34m(self, x, y, sample_weights, sample_weight_modes, batch_size, epochs, steps, shuffle, **kwargs)\u001b[0m\n\u001b[0;32m    324\u001b[0m   \u001b[39mreturn\u001b[39;00m flat_dataset\n\u001b[0;32m    326\u001b[0m indices_dataset \u001b[39m=\u001b[39m indices_dataset\u001b[39m.\u001b[39mflat_map(slice_batch_indices)\n\u001b[1;32m--> 328\u001b[0m dataset \u001b[39m=\u001b[39m \u001b[39mself\u001b[39;49m\u001b[39m.\u001b[39;49mslice_inputs(indices_dataset, inputs)\n\u001b[0;32m    330\u001b[0m \u001b[39mif\u001b[39;00m shuffle \u001b[39m==\u001b[39m \u001b[39m\"\u001b[39m\u001b[39mbatch\u001b[39m\u001b[39m\"\u001b[39m:\n\u001b[0;32m    331\u001b[0m   \u001b[39mdef\u001b[39;00m \u001b[39mshuffle_batch\u001b[39m(\u001b[39m*\u001b[39mbatch):\n",
      "File \u001b[1;32md:\\Materi_data-science\\Code\\Fashion_Recommendation\\env\\lib\\site-packages\\keras\\engine\\data_adapter.py:360\u001b[0m, in \u001b[0;36mTensorLikeDataAdapter.slice_inputs\u001b[1;34m(self, indices_dataset, inputs)\u001b[0m\n\u001b[0;32m    357\u001b[0m \u001b[39mdef\u001b[39;00m \u001b[39mgrab_batch\u001b[39m(i, data):\n\u001b[0;32m    358\u001b[0m   \u001b[39mreturn\u001b[39;00m tf\u001b[39m.\u001b[39mnest\u001b[39m.\u001b[39mmap_structure(\u001b[39mlambda\u001b[39;00m d: tf\u001b[39m.\u001b[39mgather(d, i, axis\u001b[39m=\u001b[39m\u001b[39m0\u001b[39m), data)\n\u001b[1;32m--> 360\u001b[0m dataset \u001b[39m=\u001b[39m dataset\u001b[39m.\u001b[39;49mmap(\n\u001b[0;32m    361\u001b[0m     grab_batch, num_parallel_calls\u001b[39m=\u001b[39;49mtf\u001b[39m.\u001b[39;49mdata\u001b[39m.\u001b[39;49mAUTOTUNE)\n\u001b[0;32m    363\u001b[0m \u001b[39m# Default optimizations are disabled to avoid the overhead of (unnecessary)\u001b[39;00m\n\u001b[0;32m    364\u001b[0m \u001b[39m# input pipeline graph serialization and deserialization\u001b[39;00m\n\u001b[0;32m    365\u001b[0m options \u001b[39m=\u001b[39m tf\u001b[39m.\u001b[39mdata\u001b[39m.\u001b[39mOptions()\n",
      "File \u001b[1;32md:\\Materi_data-science\\Code\\Fashion_Recommendation\\env\\lib\\site-packages\\tensorflow\\python\\data\\ops\\dataset_ops.py:2050\u001b[0m, in \u001b[0;36mDatasetV2.map\u001b[1;34m(self, map_func, num_parallel_calls, deterministic, name)\u001b[0m\n\u001b[0;32m   2048\u001b[0m   \u001b[39mreturn\u001b[39;00m MapDataset(\u001b[39mself\u001b[39m, map_func, preserve_cardinality\u001b[39m=\u001b[39m\u001b[39mTrue\u001b[39;00m, name\u001b[39m=\u001b[39mname)\n\u001b[0;32m   2049\u001b[0m \u001b[39melse\u001b[39;00m:\n\u001b[1;32m-> 2050\u001b[0m   \u001b[39mreturn\u001b[39;00m ParallelMapDataset(\n\u001b[0;32m   2051\u001b[0m       \u001b[39mself\u001b[39;49m,\n\u001b[0;32m   2052\u001b[0m       map_func,\n\u001b[0;32m   2053\u001b[0m       num_parallel_calls,\n\u001b[0;32m   2054\u001b[0m       deterministic,\n\u001b[0;32m   2055\u001b[0m       preserve_cardinality\u001b[39m=\u001b[39;49m\u001b[39mTrue\u001b[39;49;00m,\n\u001b[0;32m   2056\u001b[0m       name\u001b[39m=\u001b[39;49mname)\n",
      "File \u001b[1;32md:\\Materi_data-science\\Code\\Fashion_Recommendation\\env\\lib\\site-packages\\tensorflow\\python\\data\\ops\\dataset_ops.py:5284\u001b[0m, in \u001b[0;36mParallelMapDataset.__init__\u001b[1;34m(self, input_dataset, map_func, num_parallel_calls, deterministic, use_inter_op_parallelism, preserve_cardinality, use_legacy_function, name)\u001b[0m\n\u001b[0;32m   5282\u001b[0m \u001b[39mself\u001b[39m\u001b[39m.\u001b[39m_input_dataset \u001b[39m=\u001b[39m input_dataset\n\u001b[0;32m   5283\u001b[0m \u001b[39mself\u001b[39m\u001b[39m.\u001b[39m_use_inter_op_parallelism \u001b[39m=\u001b[39m use_inter_op_parallelism\n\u001b[1;32m-> 5284\u001b[0m \u001b[39mself\u001b[39m\u001b[39m.\u001b[39m_map_func \u001b[39m=\u001b[39m structured_function\u001b[39m.\u001b[39;49mStructuredFunctionWrapper(\n\u001b[0;32m   5285\u001b[0m     map_func,\n\u001b[0;32m   5286\u001b[0m     \u001b[39mself\u001b[39;49m\u001b[39m.\u001b[39;49m_transformation_name(),\n\u001b[0;32m   5287\u001b[0m     dataset\u001b[39m=\u001b[39;49minput_dataset,\n\u001b[0;32m   5288\u001b[0m     use_legacy_function\u001b[39m=\u001b[39;49muse_legacy_function)\n\u001b[0;32m   5289\u001b[0m \u001b[39mif\u001b[39;00m deterministic \u001b[39mis\u001b[39;00m \u001b[39mNone\u001b[39;00m:\n\u001b[0;32m   5290\u001b[0m   \u001b[39mself\u001b[39m\u001b[39m.\u001b[39m_deterministic \u001b[39m=\u001b[39m \u001b[39m\"\u001b[39m\u001b[39mdefault\u001b[39m\u001b[39m\"\u001b[39m\n",
      "File \u001b[1;32md:\\Materi_data-science\\Code\\Fashion_Recommendation\\env\\lib\\site-packages\\tensorflow\\python\\data\\ops\\structured_function.py:271\u001b[0m, in \u001b[0;36mStructuredFunctionWrapper.__init__\u001b[1;34m(self, func, transformation_name, dataset, input_classes, input_shapes, input_types, input_structure, add_to_graph, use_legacy_function, defun_kwargs)\u001b[0m\n\u001b[0;32m    264\u001b[0m       warnings\u001b[39m.\u001b[39mwarn(\n\u001b[0;32m    265\u001b[0m           \u001b[39m\"\u001b[39m\u001b[39mEven though the `tf.config.experimental_run_functions_eagerly` \u001b[39m\u001b[39m\"\u001b[39m\n\u001b[0;32m    266\u001b[0m           \u001b[39m\"\u001b[39m\u001b[39moption is set, this option does not apply to tf.data functions. \u001b[39m\u001b[39m\"\u001b[39m\n\u001b[0;32m    267\u001b[0m           \u001b[39m\"\u001b[39m\u001b[39mTo force eager execution of tf.data functions, please use \u001b[39m\u001b[39m\"\u001b[39m\n\u001b[0;32m    268\u001b[0m           \u001b[39m\"\u001b[39m\u001b[39m`tf.data.experimental.enable_debug_mode()`.\u001b[39m\u001b[39m\"\u001b[39m)\n\u001b[0;32m    269\u001b[0m     fn_factory \u001b[39m=\u001b[39m trace_tf_function(defun_kwargs)\n\u001b[1;32m--> 271\u001b[0m \u001b[39mself\u001b[39m\u001b[39m.\u001b[39m_function \u001b[39m=\u001b[39m fn_factory()\n\u001b[0;32m    272\u001b[0m \u001b[39m# There is no graph to add in eager mode.\u001b[39;00m\n\u001b[0;32m    273\u001b[0m add_to_graph \u001b[39m&\u001b[39m\u001b[39m=\u001b[39m \u001b[39mnot\u001b[39;00m context\u001b[39m.\u001b[39mexecuting_eagerly()\n",
      "File \u001b[1;32md:\\Materi_data-science\\Code\\Fashion_Recommendation\\env\\lib\\site-packages\\tensorflow\\python\\eager\\function.py:2567\u001b[0m, in \u001b[0;36mFunction.get_concrete_function\u001b[1;34m(self, *args, **kwargs)\u001b[0m\n\u001b[0;32m   2558\u001b[0m \u001b[39mdef\u001b[39;00m \u001b[39mget_concrete_function\u001b[39m(\u001b[39mself\u001b[39m, \u001b[39m*\u001b[39margs, \u001b[39m*\u001b[39m\u001b[39m*\u001b[39mkwargs):\n\u001b[0;32m   2559\u001b[0m   \u001b[39m\"\"\"Returns a `ConcreteFunction` specialized to inputs and execution context.\u001b[39;00m\n\u001b[0;32m   2560\u001b[0m \n\u001b[0;32m   2561\u001b[0m \u001b[39m  Args:\u001b[39;00m\n\u001b[1;32m   (...)\u001b[0m\n\u001b[0;32m   2565\u001b[0m \u001b[39m       or `tf.Tensor` or `tf.TensorSpec`.\u001b[39;00m\n\u001b[0;32m   2566\u001b[0m \u001b[39m  \"\"\"\u001b[39;00m\n\u001b[1;32m-> 2567\u001b[0m   graph_function \u001b[39m=\u001b[39m \u001b[39mself\u001b[39m\u001b[39m.\u001b[39m_get_concrete_function_garbage_collected(\n\u001b[0;32m   2568\u001b[0m       \u001b[39m*\u001b[39margs, \u001b[39m*\u001b[39m\u001b[39m*\u001b[39mkwargs)\n\u001b[0;32m   2569\u001b[0m   graph_function\u001b[39m.\u001b[39m_garbage_collector\u001b[39m.\u001b[39mrelease()  \u001b[39m# pylint: disable=protected-access\u001b[39;00m\n\u001b[0;32m   2570\u001b[0m   \u001b[39mreturn\u001b[39;00m graph_function\n",
      "File \u001b[1;32md:\\Materi_data-science\\Code\\Fashion_Recommendation\\env\\lib\\site-packages\\tensorflow\\python\\eager\\function.py:2533\u001b[0m, in \u001b[0;36mFunction._get_concrete_function_garbage_collected\u001b[1;34m(self, *args, **kwargs)\u001b[0m\n\u001b[0;32m   2531\u001b[0m   args, kwargs \u001b[39m=\u001b[39m \u001b[39mNone\u001b[39;00m, \u001b[39mNone\u001b[39;00m\n\u001b[0;32m   2532\u001b[0m \u001b[39mwith\u001b[39;00m \u001b[39mself\u001b[39m\u001b[39m.\u001b[39m_lock:\n\u001b[1;32m-> 2533\u001b[0m   graph_function, _ \u001b[39m=\u001b[39m \u001b[39mself\u001b[39;49m\u001b[39m.\u001b[39;49m_maybe_define_function(args, kwargs)\n\u001b[0;32m   2534\u001b[0m   seen_names \u001b[39m=\u001b[39m \u001b[39mset\u001b[39m()\n\u001b[0;32m   2535\u001b[0m   captured \u001b[39m=\u001b[39m object_identity\u001b[39m.\u001b[39mObjectIdentitySet(\n\u001b[0;32m   2536\u001b[0m       graph_function\u001b[39m.\u001b[39mgraph\u001b[39m.\u001b[39minternal_captures)\n",
      "File \u001b[1;32md:\\Materi_data-science\\Code\\Fashion_Recommendation\\env\\lib\\site-packages\\tensorflow\\python\\eager\\function.py:2711\u001b[0m, in \u001b[0;36mFunction._maybe_define_function\u001b[1;34m(self, args, kwargs)\u001b[0m\n\u001b[0;32m   2708\u001b[0m   cache_key \u001b[39m=\u001b[39m \u001b[39mself\u001b[39m\u001b[39m.\u001b[39m_function_cache\u001b[39m.\u001b[39mgeneralize(cache_key)\n\u001b[0;32m   2709\u001b[0m   (args, kwargs) \u001b[39m=\u001b[39m cache_key\u001b[39m.\u001b[39m_placeholder_value()  \u001b[39m# pylint: disable=protected-access\u001b[39;00m\n\u001b[1;32m-> 2711\u001b[0m graph_function \u001b[39m=\u001b[39m \u001b[39mself\u001b[39;49m\u001b[39m.\u001b[39;49m_create_graph_function(args, kwargs)\n\u001b[0;32m   2712\u001b[0m \u001b[39mself\u001b[39m\u001b[39m.\u001b[39m_function_cache\u001b[39m.\u001b[39madd(cache_key, cache_key_deletion_observer,\n\u001b[0;32m   2713\u001b[0m                          graph_function)\n\u001b[0;32m   2715\u001b[0m \u001b[39mreturn\u001b[39;00m graph_function, filtered_flat_args\n",
      "File \u001b[1;32md:\\Materi_data-science\\Code\\Fashion_Recommendation\\env\\lib\\site-packages\\tensorflow\\python\\eager\\function.py:2627\u001b[0m, in \u001b[0;36mFunction._create_graph_function\u001b[1;34m(self, args, kwargs)\u001b[0m\n\u001b[0;32m   2622\u001b[0m missing_arg_names \u001b[39m=\u001b[39m [\n\u001b[0;32m   2623\u001b[0m     \u001b[39m\"\u001b[39m\u001b[39m%s\u001b[39;00m\u001b[39m_\u001b[39m\u001b[39m%d\u001b[39;00m\u001b[39m\"\u001b[39m \u001b[39m%\u001b[39m (arg, i) \u001b[39mfor\u001b[39;00m i, arg \u001b[39min\u001b[39;00m \u001b[39menumerate\u001b[39m(missing_arg_names)\n\u001b[0;32m   2624\u001b[0m ]\n\u001b[0;32m   2625\u001b[0m arg_names \u001b[39m=\u001b[39m base_arg_names \u001b[39m+\u001b[39m missing_arg_names\n\u001b[0;32m   2626\u001b[0m graph_function \u001b[39m=\u001b[39m ConcreteFunction(\n\u001b[1;32m-> 2627\u001b[0m     func_graph_module\u001b[39m.\u001b[39;49mfunc_graph_from_py_func(\n\u001b[0;32m   2628\u001b[0m         \u001b[39mself\u001b[39;49m\u001b[39m.\u001b[39;49m_name,\n\u001b[0;32m   2629\u001b[0m         \u001b[39mself\u001b[39;49m\u001b[39m.\u001b[39;49m_python_function,\n\u001b[0;32m   2630\u001b[0m         args,\n\u001b[0;32m   2631\u001b[0m         kwargs,\n\u001b[0;32m   2632\u001b[0m         \u001b[39mself\u001b[39;49m\u001b[39m.\u001b[39;49minput_signature,\n\u001b[0;32m   2633\u001b[0m         autograph\u001b[39m=\u001b[39;49m\u001b[39mself\u001b[39;49m\u001b[39m.\u001b[39;49m_autograph,\n\u001b[0;32m   2634\u001b[0m         autograph_options\u001b[39m=\u001b[39;49m\u001b[39mself\u001b[39;49m\u001b[39m.\u001b[39;49m_autograph_options,\n\u001b[0;32m   2635\u001b[0m         arg_names\u001b[39m=\u001b[39;49marg_names,\n\u001b[0;32m   2636\u001b[0m         capture_by_value\u001b[39m=\u001b[39;49m\u001b[39mself\u001b[39;49m\u001b[39m.\u001b[39;49m_capture_by_value),\n\u001b[0;32m   2637\u001b[0m     \u001b[39mself\u001b[39m\u001b[39m.\u001b[39m_function_attributes,\n\u001b[0;32m   2638\u001b[0m     spec\u001b[39m=\u001b[39m\u001b[39mself\u001b[39m\u001b[39m.\u001b[39mfunction_spec,\n\u001b[0;32m   2639\u001b[0m     \u001b[39m# Tell the ConcreteFunction to clean up its graph once it goes out of\u001b[39;00m\n\u001b[0;32m   2640\u001b[0m     \u001b[39m# scope. This is not the default behavior since it gets used in some\u001b[39;00m\n\u001b[0;32m   2641\u001b[0m     \u001b[39m# places (like Keras) where the FuncGraph lives longer than the\u001b[39;00m\n\u001b[0;32m   2642\u001b[0m     \u001b[39m# ConcreteFunction.\u001b[39;00m\n\u001b[0;32m   2643\u001b[0m     shared_func_graph\u001b[39m=\u001b[39m\u001b[39mFalse\u001b[39;00m)\n\u001b[0;32m   2644\u001b[0m \u001b[39mreturn\u001b[39;00m graph_function\n",
      "File \u001b[1;32md:\\Materi_data-science\\Code\\Fashion_Recommendation\\env\\lib\\site-packages\\tensorflow\\python\\framework\\func_graph.py:1056\u001b[0m, in \u001b[0;36mfunc_graph_from_py_func\u001b[1;34m(name, python_func, args, kwargs, signature, func_graph, autograph, autograph_options, add_control_dependencies, arg_names, op_return_value, collections, capture_by_value, acd_record_initial_resource_uses)\u001b[0m\n\u001b[0;32m   1053\u001b[0m   args \u001b[39m=\u001b[39m signature\n\u001b[0;32m   1054\u001b[0m   kwargs \u001b[39m=\u001b[39m {}\n\u001b[1;32m-> 1056\u001b[0m func_args \u001b[39m=\u001b[39m _get_defun_inputs_from_args(args, arg_names)\n\u001b[0;32m   1057\u001b[0m func_kwargs \u001b[39m=\u001b[39m _get_defun_inputs_from_kwargs(kwargs)\n\u001b[0;32m   1059\u001b[0m \u001b[39m# Convert all Tensors into TensorSpecs before saving the structured inputs.\u001b[39;00m\n\u001b[0;32m   1060\u001b[0m \u001b[39m# If storing pure concrete functions that are not called through polymorphic\u001b[39;00m\n\u001b[0;32m   1061\u001b[0m \u001b[39m# functions, we don't have access to FunctionSpec, so we need to call the\u001b[39;00m\n\u001b[0;32m   1062\u001b[0m \u001b[39m# TensorSpecs by their `arg_names` for later binding.\u001b[39;00m\n",
      "File \u001b[1;32md:\\Materi_data-science\\Code\\Fashion_Recommendation\\env\\lib\\site-packages\\tensorflow\\python\\framework\\func_graph.py:1322\u001b[0m, in \u001b[0;36m_get_defun_inputs_from_args\u001b[1;34m(args, names)\u001b[0m\n\u001b[0;32m   1320\u001b[0m \u001b[39mdef\u001b[39;00m \u001b[39m_get_defun_inputs_from_args\u001b[39m(args, names):\n\u001b[0;32m   1321\u001b[0m   \u001b[39m\"\"\"Maps Python function positional args to graph-construction inputs.\"\"\"\u001b[39;00m\n\u001b[1;32m-> 1322\u001b[0m   \u001b[39mreturn\u001b[39;00m _get_defun_inputs(args, names, structured_args\u001b[39m=\u001b[39;49margs)\n",
      "File \u001b[1;32md:\\Materi_data-science\\Code\\Fashion_Recommendation\\env\\lib\\site-packages\\tensorflow\\python\\framework\\func_graph.py:1386\u001b[0m, in \u001b[0;36m_get_defun_inputs\u001b[1;34m(args, names, structured_args)\u001b[0m\n\u001b[0;32m   1382\u001b[0m     handle_data_util\u001b[39m.\u001b[39mcopy_handle_data(arg, placeholder)\n\u001b[0;32m   1383\u001b[0m   \u001b[39mif\u001b[39;00m name \u001b[39mis\u001b[39;00m \u001b[39mnot\u001b[39;00m \u001b[39mNone\u001b[39;00m:\n\u001b[0;32m   1384\u001b[0m     \u001b[39m# Record the requested/user-specified name in case it's different than\u001b[39;00m\n\u001b[0;32m   1385\u001b[0m     \u001b[39m# the uniquified name, for validation when exporting signatures.\u001b[39;00m\n\u001b[1;32m-> 1386\u001b[0m     placeholder\u001b[39m.\u001b[39;49mop\u001b[39m.\u001b[39;49m_set_attr(  \u001b[39m# pylint: disable=protected-access\u001b[39;49;00m\n\u001b[0;32m   1387\u001b[0m         \u001b[39m\"\u001b[39;49m\u001b[39m_user_specified_name\u001b[39;49m\u001b[39m\"\u001b[39;49m,\n\u001b[0;32m   1388\u001b[0m         attr_value_pb2\u001b[39m.\u001b[39;49mAttrValue(s\u001b[39m=\u001b[39;49mcompat\u001b[39m.\u001b[39;49mas_bytes(requested_name)))\n\u001b[0;32m   1389\u001b[0m   function_inputs\u001b[39m.\u001b[39mappend(placeholder)\n\u001b[0;32m   1390\u001b[0m \u001b[39melif\u001b[39;00m \u001b[39misinstance\u001b[39m(arg, (resource_variable_ops\u001b[39m.\u001b[39mBaseResourceVariable,\n\u001b[0;32m   1391\u001b[0m                       resource_variable_ops\u001b[39m.\u001b[39mVariableSpec)):\n",
      "File \u001b[1;32md:\\Materi_data-science\\Code\\Fashion_Recommendation\\env\\lib\\site-packages\\tensorflow\\python\\framework\\ops.py:2589\u001b[0m, in \u001b[0;36mOperation._set_attr\u001b[1;34m(self, attr_name, attr_value)\u001b[0m\n\u001b[0;32m   2586\u001b[0m buf \u001b[39m=\u001b[39m pywrap_tf_session\u001b[39m.\u001b[39mTF_NewBufferFromString(\n\u001b[0;32m   2587\u001b[0m     compat\u001b[39m.\u001b[39mas_bytes(attr_value\u001b[39m.\u001b[39mSerializeToString()))\n\u001b[0;32m   2588\u001b[0m \u001b[39mtry\u001b[39;00m:\n\u001b[1;32m-> 2589\u001b[0m   \u001b[39mself\u001b[39;49m\u001b[39m.\u001b[39;49m_set_attr_with_buf(attr_name, buf)\n\u001b[0;32m   2590\u001b[0m \u001b[39mfinally\u001b[39;00m:\n\u001b[0;32m   2591\u001b[0m   pywrap_tf_session\u001b[39m.\u001b[39mTF_DeleteBuffer(buf)\n",
      "File \u001b[1;32md:\\Materi_data-science\\Code\\Fashion_Recommendation\\env\\lib\\site-packages\\tensorflow\\python\\framework\\ops.py:2596\u001b[0m, in \u001b[0;36mOperation._set_attr_with_buf\u001b[1;34m(self, attr_name, attr_buf)\u001b[0m\n\u001b[0;32m   2594\u001b[0m \u001b[39m\"\"\"Set an attr in the node_def with a pre-allocated buffer.\"\"\"\u001b[39;00m\n\u001b[0;32m   2595\u001b[0m \u001b[39m# pylint: disable=protected-access\u001b[39;00m\n\u001b[1;32m-> 2596\u001b[0m pywrap_tf_session\u001b[39m.\u001b[39;49mSetAttr(\u001b[39mself\u001b[39;49m\u001b[39m.\u001b[39;49m_graph\u001b[39m.\u001b[39;49m_c_graph, \u001b[39mself\u001b[39;49m\u001b[39m.\u001b[39;49m_c_op, attr_name,\n\u001b[0;32m   2597\u001b[0m                           attr_buf)\n",
      "\u001b[1;31mKeyboardInterrupt\u001b[0m: "
     ]
    }
   ],
   "source": [
    "feature_list = []\n",
    "for file in tqdm(filenames):\n",
    "    feature_list.append(extract_features(file,model))"
   ]
  }
 ],
 "metadata": {
  "kernelspec": {
   "display_name": "Python 3.9.9 ('env': venv)",
   "language": "python",
   "name": "python3"
  },
  "language_info": {
   "codemirror_mode": {
    "name": "ipython",
    "version": 3
   },
   "file_extension": ".py",
   "mimetype": "text/x-python",
   "name": "python",
   "nbconvert_exporter": "python",
   "pygments_lexer": "ipython3",
   "version": "3.9.9"
  },
  "orig_nbformat": 4,
  "vscode": {
   "interpreter": {
    "hash": "ebcd7225a1eeb5268bf1e63141c5943c28b8a62e746df4b0c2cf85a2fa625555"
   }
  }
 },
 "nbformat": 4,
 "nbformat_minor": 2
}
